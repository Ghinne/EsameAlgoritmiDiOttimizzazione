{
 "cells": [
  {
   "cell_type": "markdown",
   "metadata": {},
   "source": [
    "# Agent Scheduling Problem\n",
    "This isn't the classic Traveling Salesman Problem with Time Windows because there are more constraints to respect.<br>\n",
    "Those constraints are:\n",
    "<ul>\n",
    "    <li>30 minutes for lunch between 12:00 AM and 2:00 PM;</li>\n",
    "    <li>Limited working time (8 hours);</li>\n",
    "    <li>Limited waiting and traveling time;</li>\n",
    "    <li>Minimum time to spent in office (1 hour);</li>\n",
    "</ul>"
   ]
  },
  {
   "cell_type": "markdown",
   "metadata": {},
   "source": [
    " #### Importing libraries"
   ]
  },
  {
   "cell_type": "code",
   "execution_count": 1,
   "metadata": {},
   "outputs": [],
   "source": [
    "from gurobipy import*\n",
    "\n",
    "import math\n",
    "import matplotlib.pyplot as plt\n",
    "import networkx as nx\n",
    "import numpy as np\n",
    "import pandas as pd"
   ]
  },
  {
   "cell_type": "markdown",
   "metadata": {},
   "source": [
    "#### Define file with clients data"
   ]
  },
  {
   "cell_type": "code",
   "execution_count": 2,
   "metadata": {},
   "outputs": [],
   "source": [
    "FILE = \"./TEST_SETS/test_1.txt\""
   ]
  },
  {
   "cell_type": "markdown",
   "metadata": {},
   "source": [
    "#### Define costant parameters"
   ]
  },
  {
   "cell_type": "code",
   "execution_count": 3,
   "metadata": {},
   "outputs": [],
   "source": [
    "# Default params\n",
    "SUPPORTED_FORMAT = ['NUM', 'X', 'Y', 'DEMAND', 'READYTIME', 'DUEDATE', 'SERVICE']\n",
    "# Macros for time values conversions\n",
    "MINUTES = 60\n",
    "HOURS = 3600\n",
    "OFFSET_TIMES = 8*HOURS\n",
    "\n",
    "COLUMNS_OPS = {'NUM': lambda x: float(x),\n",
    "               'X': lambda x: float(x),\n",
    "               'Y': lambda x: float(x),\n",
    "               'DEMAND': lambda x: 1,\n",
    "               'READYTIME': lambda x: float(x),\n",
    "               'DUEDATE': lambda x: float(x),\n",
    "               'SERVICE': lambda x: float(x)\n",
    "              }\n",
    "# Agents count\n",
    "AGENTS = 3\n",
    "\n",
    "# Multiplier for distance cost\n",
    "TIME_PER_DISTANCE = 1\n",
    "\n",
    "# Agent Working day start and end\n",
    "WORKING_TIME_RANGE = (0, 8*HOURS)\n",
    "\n",
    "# Agent Lunch break time range, lasting\n",
    "LUNCH_BREAK_RANGE = (12*HOURS-OFFSET_TIMES, 13.5*HOURS-OFFSET_TIMES)\n",
    "LUNCH_BREAK_TIME = 30*MINUTES\n",
    "\n",
    "# Agents office parameters\n",
    "OFFICE_NUM = 0\n",
    "OFFICE_X = .0\n",
    "OFFICE_Y = .0\n",
    "OFFICE_READYTIME = WORKING_TIME_RANGE[0]\n",
    "OFFICE_DUEDATE = WORKING_TIME_RANGE[1]\n",
    "OFFICE_SERVICE = 1*HOURS"
   ]
  },
  {
   "cell_type": "markdown",
   "metadata": {},
   "source": [
    "#### Read clients data"
   ]
  },
  {
   "cell_type": "code",
   "execution_count": 4,
   "metadata": {},
   "outputs": [],
   "source": [
    "def read_input_tsptw(filename):\n",
    "    \"\"\"This function is used to convert input file to usable data\"\"\"\n",
    "    # Dict sed for locations parameters\n",
    "    data_dict = dict()\n",
    "    \n",
    "    # List of node positions for plots\n",
    "    nodes_x = list()\n",
    "    nodes_y = list()\n",
    "       \n",
    "    # Add office to data\n",
    "    data_dict.update({OFFICE_NUM: {'X': OFFICE_X, \n",
    "                                   'Y': OFFICE_Y, \n",
    "                                   'DEMAND': AGENTS,\n",
    "                                   'READYTIME': OFFICE_READYTIME,\n",
    "                                   'DUEDATE': OFFICE_DUEDATE,\n",
    "                                   'SERVICE': OFFICE_SERVICE,}})\n",
    "    # Add office to nodes\n",
    "    nodes_x.append(OFFICE_X)\n",
    "    nodes_y.append(OFFICE_Y)\n",
    "    \n",
    "    # Open file and read lines \n",
    "    with open(filename, \"r\") as file:\n",
    "        # Initialize columns in empty dict\n",
    "        columns = file.readline().replace(\"#\",\"\").split()\n",
    "        if columns != SUPPORTED_FORMAT:\n",
    "            print(\"ERROR! Format not supported.\")\n",
    "            return \n",
    "                   \n",
    "        # For each data line\n",
    "        for line in file.readlines():\n",
    "            node_dict = {k: COLUMNS_OPS[k](val) for k, val in zip(columns, line.split())}\n",
    "            # Get id\n",
    "            node_id = node_dict.pop('NUM')\n",
    "            # Insert new node in data dict\n",
    "            data_dict.update({int(node_id): node_dict})            \n",
    "            # Get nodes positions\n",
    "            nodes_x.append(float(line.split()[columns.index('X')]))\n",
    "            nodes_y.append(float(line.split()[columns.index('Y')]))\n",
    "\n",
    "    # Get distance matrix\n",
    "    distance_matrix = compute_distance_matrix(nodes_x, nodes_y)\n",
    "    return (data_dict, distance_matrix, dict(enumerate(zip(nodes_x, nodes_y))))\n",
    "\n",
    "\n",
    "def compute_distance_matrix(nodes_x, nodes_y):\n",
    "    \"\"\"This function is used to compute the distance matrix\"\"\"\n",
    "    # Get clients count and initialize distance matrix\n",
    "    clients = len(nodes_x)\n",
    "    distance_matrix = [[None for i in range(clients)] for j in range(clients)]\n",
    "    for i in range(clients):\n",
    "        # Set cost of trip between same agent and himself as null\n",
    "        distance_matrix[i][i] = 0\n",
    "        for j in range(clients):\n",
    "            # Compute distance matrix calculating euclidean distance between each node\n",
    "            dist = compute_dist(nodes_x[i], nodes_x[j], nodes_y[i], nodes_y[j])\n",
    "            distance_matrix[i][j] = dist\n",
    "            distance_matrix[j][i] = dist\n",
    "    return distance_matrix\n",
    "\n",
    "\n",
    "def compute_dist(xi, xj, yi, yj):\n",
    "    \"\"\"This function is used to compute euclidean distance\"\"\"\n",
    "    exact_dist = math.sqrt(math.pow(xi - xj, 2) + math.pow(yi - yj, 2))\n",
    "    return int(math.floor(exact_dist + 0.5)) * TIME_PER_DISTANCE"
   ]
  },
  {
   "cell_type": "code",
   "execution_count": 5,
   "metadata": {},
   "outputs": [],
   "source": [
    "# Getting locations parameters\n",
    "data_dict, distance_matrix, positions = read_input_tsptw(FILE)"
   ]
  },
  {
   "cell_type": "markdown",
   "metadata": {},
   "source": [
    "## Model\n",
    "### Setup model parameters"
   ]
  },
  {
   "cell_type": "code",
   "execution_count": 6,
   "metadata": {},
   "outputs": [],
   "source": [
    "# DEBUG RESTRICTIONS\n",
    "CLIENTS = len(data_dict)\n",
    "data_dict = {k: v for k,v in data_dict.items() if k < CLIENTS}\n",
    "distance_matrix = [dm[:CLIENTS] for dm in distance_matrix[:CLIENTS]]\n",
    "\n",
    "# ADD FITTICIOUS LOCATION\n",
    "# This location is used to have a complete loop in Agent trips without interfering \n",
    "# with trips costs. Having a complete loop simplify the job of creating a trip.\n",
    "# To not interfer with costs it's distance to all other locations is 0. \n",
    "distance_matrix = [dm + [0,] for dm in distance_matrix]\n",
    "distance_matrix = distance_matrix + [[0]*(CLIENTS+1)]\n",
    "# Add location data\n",
    "data_dict.update({CLIENTS: {'X': 0, \n",
    "                            'Y': 0, \n",
    "                            'DEMAND': AGENTS,\n",
    "                            'READYTIME': WORKING_TIME_RANGE[0],\n",
    "                            'DUEDATE': WORKING_TIME_RANGE[1],\n",
    "                            'SERVICE': 0,}})\n",
    "\n",
    "# POSITIONS SETS FOR CLEANER MODEL\n",
    "agent_list = list(range(AGENTS))\n",
    "all_pos = list(range(CLIENTS*2))\n",
    "start_pos = CLIENTS\n",
    "client_pos = list(range(1,CLIENTS))\n",
    "only_start_office_pos = 0\n",
    "no_duplicates_pos = list(range(0,CLIENTS))\n",
    "destination_office_pos = list(range(CLIENTS+1, CLIENTS*2))\n",
    "office_pos = [only_start_office_pos]+destination_office_pos\n",
    "reachable_pos = [p for p in range(CLIENTS*2) if p not in [start_pos,]]"
   ]
  },
  {
   "cell_type": "markdown",
   "metadata": {},
   "source": [
    "### Create the model"
   ]
  },
  {
   "cell_type": "code",
   "execution_count": 7,
   "metadata": {},
   "outputs": [
    {
     "name": "stdout",
     "output_type": "stream",
     "text": [
      "Academic license - for non-commercial use only - expires 2021-08-11\n",
      "Using license file /opt/gurobi/gurobi.lic\n"
     ]
    }
   ],
   "source": [
    "# Create model\n",
    "mod = Model(\"TSPTW\")    "
   ]
  },
  {
   "cell_type": "markdown",
   "metadata": {},
   "source": [
    "### Variables\n",
    "IMPORTANT!<br>\n",
    "Office IS ONE AND ONLY ONE but because i wasn't unable to find a better solution for multiple Agent visiting it i've repeated Office (originally in position 0) in all position greater than number_of_clients + 1.<br>\n",
    "\n",
    "WARNING!<br>\n",
    "Position from number_of_clients + 2 forward are office positions reachable only from           client_pos = office_pos - number_of_clients.<br>\n",
    "\n",
    "WARNING!<br>\n",
    "Position number_of_clients + 1 is used as fitticious start and end trip loop location, position 0 is office too, Agents can only start from office 0 they can't go there.<br>"
   ]
  },
  {
   "cell_type": "code",
   "execution_count": 8,
   "metadata": {},
   "outputs": [],
   "source": [
    "#  Agent trip\n",
    "x = mod.addVars({(i,j,a): 0 for i in all_pos\n",
    "                            for j in all_pos \n",
    "                            for a in agent_list}, \n",
    "                name=\"x\", \n",
    "                vtype=GRB.BINARY)\n",
    "\n",
    "# Serve time\n",
    "s =  mod.addVars({(i,a): 0 for i in all_pos \n",
    "                           for a in agent_list}, \n",
    "                 name=\"s\", \n",
    "                 vtype=GRB.INTEGER)\n",
    "\n",
    "# Serve Client/Office lasting\n",
    "c = mod.addVars({(i,j,a): 0 for i in all_pos\n",
    "                            for j in all_pos\n",
    "                            for a in agent_list}, \n",
    "                name=\"c\", \n",
    "                vtype=GRB.INTEGER)\n",
    "\n",
    "# Wait time\n",
    "w = mod.addVars({(i,a): 0 for i in all_pos\n",
    "                          for a in agent_list}, \n",
    "                name=\"w\", \n",
    "                vtype=GRB.INTEGER)\n",
    "\n",
    "# Lunch done between customers\n",
    "l = mod.addVars({(i,j,a): 0 for i in all_pos\n",
    "                            for j in all_pos\n",
    "                            for a in agent_list}, \n",
    "                name=\"l\", \n",
    "                vtype=GRB.BINARY)\n",
    "\n",
    "# Max working time \n",
    "t = mod.addVars({(a): 0 for a in agent_list},\n",
    "               name=\"t\",\n",
    "               vtype=GRB.INTEGER)"
   ]
  },
  {
   "cell_type": "markdown",
   "metadata": {},
   "source": [
    "### Constraints\n",
    "#### Trip contraints"
   ]
  },
  {
   "cell_type": "code",
   "execution_count": 9,
   "metadata": {},
   "outputs": [],
   "source": [
    "# All client must be visited from an Agent\n",
    "_= mod.addConstrs((quicksum(x[i,j,a]\n",
    "                            for i in all_pos\n",
    "                            for a in agent_list) == 1\n",
    "                  for j in client_pos),\n",
    "                  name=\"ServeAll\")\n",
    "\n",
    "# All duplicated Offices must be visited from at most an Agent\n",
    "_= mod.addConstrs((quicksum(x[i,j,a]\n",
    "                            for i in all_pos\n",
    "                            for a in agent_list) <= 1\n",
    "                  for j in destination_office_pos),\n",
    "                  name=\"ServeDuplicatesOffice\")\n",
    "\n",
    "# All Agents start their trip from fitticious location\n",
    "_= mod.addConstrs((quicksum(x[start_pos,j,a] \n",
    "                            for j in no_duplicates_pos) == 1\n",
    "                  for a in agent_list),\n",
    "                  name=\"StartFromFitticious\")\n",
    "\n",
    "# Agents can't start their trip from fitticious location and go to only destination Office\n",
    "_= mod.addConstrs((x[start_pos,j,a] == 0\n",
    "                  for j in destination_office_pos\n",
    "                  for a in agent_list),\n",
    "                  name=\"NotStartFromFitticiousToOffice\")\n",
    "                  \n",
    "# All Agents end their trip in fitticious location \n",
    "_= mod.addConstrs((quicksum(x[i,start_pos,a] \n",
    "                            for i in reachable_pos) == 1\n",
    "                  for a in agent_list),\n",
    "                  name=\"EndInFitticious\")\n",
    "\n",
    "# Each served location has a served location before\n",
    "_= mod.addConstrs((quicksum(x[i,h,a] for i in all_pos) - \n",
    "                   quicksum(x[h,j,a] for j in all_pos) == 0\n",
    "                  for h in all_pos\n",
    "                  for a in agent_list),\n",
    "                  name=\"ContinuousLoops\")\n",
    "\n",
    "# Agent can't do loop between same Client\n",
    "_= mod.addConstrs((x[i,i,a] == 0\n",
    "                  for a in agent_list\n",
    "                  for i in all_pos),\n",
    "                  name=\"NoSelfLoops\")"
   ]
  },
  {
   "cell_type": "markdown",
   "metadata": {},
   "source": [
    "#### Service time constraints"
   ]
  },
  {
   "cell_type": "code",
   "execution_count": 10,
   "metadata": {},
   "outputs": [],
   "source": [
    "# Sum of time spent into a location in a specific trip must be equal to Service \n",
    "# time of that location\n",
    "_= mod.addConstrs((quicksum(c[i,j,a]*x[i,j,a] \n",
    "                            for i in all_pos) == quicksum(x[i,j,a] \n",
    "                                                          for i in all_pos) * \n",
    "                   data_dict[j]['SERVICE']\n",
    "                  for j in client_pos\n",
    "                  for a in agent_list),\n",
    "                  name=\"ServingTime\")\n",
    "\n",
    "# Sum of time spent into Office in a specific trip must be equal to Office service time\n",
    "_= mod.addConstrs((quicksum(c[i,j,a]*x[i,j,a] \n",
    "                          for i in all_pos\n",
    "                          for j in office_pos) == data_dict[0]['SERVICE']\n",
    "                  for a in agent_list),\n",
    "                  name=\"ServingTimeOffice\")\n",
    "\n",
    "# Can spent time in a location only if it's in the trip\n",
    "_= mod.addConstrs((c[i,j,a] <= x[i,j,a] * data_dict[j if j in no_duplicates_pos else 0]['SERVICE'] \n",
    "                   for i in reachable_pos\n",
    "                   for j in reachable_pos\n",
    "                   for a in agent_list),\n",
    "                  name=\"ServingOnlyIfInTrip\")\n",
    "\n",
    "# Go to a location only to spend time\n",
    "_= mod.addConstrs((x[i,j,a] <= c[i,j,a] \n",
    "                   for i in all_pos \n",
    "                   for j in reachable_pos \n",
    "                   for a in agent_list),\n",
    "                 name=\"GoOnlyIfNeeded\")"
   ]
  },
  {
   "cell_type": "markdown",
   "metadata": {},
   "source": [
    "#### Office constraints"
   ]
  },
  {
   "cell_type": "code",
   "execution_count": 11,
   "metadata": {},
   "outputs": [],
   "source": [
    "# Agent must go office at least once or start from it [0]\n",
    "_= mod.addConstrs((quicksum(x[i,j,a] \n",
    "                            for i in all_pos \n",
    "                            for j in office_pos) >= 1 \n",
    "                   for a in agent_list),\n",
    "                  name=\"ServeOffice\")\n",
    "\n",
    "# Agent can't go office from office\n",
    "_= mod.addConstrs((x[i,j,a] == 0  \n",
    "                            for i in office_pos\n",
    "                            for j in office_pos\n",
    "                            for a in agent_list),\n",
    "                  name=\"NoOfficeFromOfficeB\")\n",
    "\n",
    "# That is an only start Office position\n",
    "_= mod.addConstrs((x[i,0,a] == 0  \n",
    "                            for i in client_pos\n",
    "                            for a in agent_list),\n",
    "                  name=\"NoOfficeFromOfficeC\")\n",
    "\n",
    "# Agent can go to Office only if he visited the associated Client \n",
    "_= mod.addConstrs((x[j,j+CLIENTS,a] <= quicksum(x[i,j,a] for i in all_pos)\n",
    "                   for j in client_pos\n",
    "                  for a in agent_list),\n",
    "                  name=\"GoOfficeOnlyIfVisitedItsClient\")\n",
    "\n",
    "# Agent can go to Office just after he visit the associated Client\n",
    "_= mod.addConstrs((x[i,j,a] == 0\n",
    "                   for i in no_duplicates_pos\n",
    "                   for j in destination_office_pos\n",
    "                   for a in agent_list\n",
    "                   if i != j-CLIENTS),\n",
    "                  name=\"GoOfficeAfterItsClient\")"
   ]
  },
  {
   "cell_type": "markdown",
   "metadata": {},
   "source": [
    "#### Time windows constraints"
   ]
  },
  {
   "cell_type": "code",
   "execution_count": 12,
   "metadata": {},
   "outputs": [],
   "source": [
    "# Agent serve Client after his time window start\n",
    "_= mod.addConstrs((data_dict[i]['READYTIME'] * \n",
    "                   quicksum(x[h,i,a] \n",
    "                            for h in all_pos) <= s[i,a]\n",
    "                   for i in client_pos\n",
    "                   for a in agent_list),\n",
    "                  name=\"ServeAfterTWStart\")\n",
    "\n",
    "# Agent serve Client before his time window end\n",
    "_= mod.addConstrs((data_dict[i]['DUEDATE'] * \n",
    "                   quicksum(x[h,i,a] \n",
    "                            for h in all_pos) >= s[i,a]\n",
    "                   for i in client_pos\n",
    "                   for a in agent_list),\n",
    "                  name=\"ServeBeforeTWEnd\")"
   ]
  },
  {
   "cell_type": "markdown",
   "metadata": {},
   "source": [
    "#### Lunch break constraints"
   ]
  },
  {
   "cell_type": "code",
   "execution_count": 13,
   "metadata": {
    "scrolled": true
   },
   "outputs": [],
   "source": [
    "# If Agent has lunch it must be after lunch time start\n",
    "_= mod.addConstrs((l[i,j,a]*(s[i,a] + \n",
    "                             c[i,j,a] + \n",
    "                             distance_matrix[i if i in no_duplicates_pos else 0][j if j in no_duplicates_pos else 0] + \n",
    "                             w[j,a]) >= l[i,j,a]*LUNCH_BREAK_RANGE[0] \n",
    "                   for i in reachable_pos\n",
    "                   for j in reachable_pos\n",
    "                   for a in agent_list),\n",
    "                  name=\"LunchTimeStart\")\n",
    "\n",
    "# If Agent has lunch it must be before lunch time end\n",
    "_= mod.addConstrs((l[i,j,a]*(s[i,a] + \n",
    "                             c[i,j,a] +\n",
    "                             distance_matrix[i if i in no_duplicates_pos else 0][j if j in no_duplicates_pos else 0] +\n",
    "                             w[j,a]) <= l[i,j,a]*LUNCH_BREAK_RANGE[1] \n",
    "                   for i in reachable_pos\n",
    "                   for j in reachable_pos\n",
    "                   for a in agent_list),\n",
    "                  name=\"LunchTimeEnd\")\n",
    "\n",
    "# If Agent have lunch between Clients I and J, agent have to make trip between I and J  \n",
    "_= mod.addConstrs((l[i,j,a] <= x[i,j,a]\n",
    "                   for i in reachable_pos\n",
    "                   for j in reachable_pos\n",
    "                   for a in agent_list),\n",
    "                  name=\"LunchTime\")\n",
    "\n",
    "# Getting maximum Agent service time\n",
    "_= mod.addConstrs((t[a] == max_(s[i,a] for i in reachable_pos) \n",
    "                   for a in agent_list),\n",
    "                  name=\"MaxServiceTime\")\n",
    "\n",
    "# If Agent working time is greater than lunch time than Agent must have lunch\n",
    "_= mod.addConstrs((WORKING_TIME_RANGE[1] * (quicksum(l[i,j,a]\n",
    "                                             for i in reachable_pos\n",
    "                                             for j in reachable_pos)) >= t[a] - LUNCH_BREAK_RANGE[0]\n",
    "                   for a in agent_list),\n",
    "                  name=\"AgentNeedLunchI\")\n",
    "\n",
    "# If Agent working time is lesser than lunch time than Agent must not have lunch\n",
    "_= mod.addConstrs((WORKING_TIME_RANGE[1] * (1 - quicksum(l[i,j,a]\n",
    "                                             for i in reachable_pos\n",
    "                                             for j in reachable_pos)) >= LUNCH_BREAK_RANGE[0] - t[a]\n",
    "                   for a in agent_list),\n",
    "                  name=\"AgentNeedLunchII\")"
   ]
  },
  {
   "cell_type": "markdown",
   "metadata": {},
   "source": [
    "#### Service time constraint"
   ]
  },
  {
   "cell_type": "code",
   "execution_count": 14,
   "metadata": {},
   "outputs": [],
   "source": [
    "# Service time of Client J is equal to sum of:\n",
    "# wait_time_of_client_J, service_time_of_client_I_before_of_J, trip_between_I_and_J, \n",
    "# time_of_service_of_client_I, lunch_time_if_present\n",
    "_= mod.addConstrs((s[j,a] == quicksum(x[i,j,a]*\n",
    "                                      (s[i,a] + \n",
    "                                       distance_matrix[i if i in no_duplicates_pos else 0][j if j in no_duplicates_pos else 0] +\n",
    "                                       l[i,j,a]*LUNCH_BREAK_TIME + \n",
    "                                       w[j,a])\n",
    "                                      for i in reachable_pos if i!=j) +\n",
    "                   quicksum(x[i,j,a]*c[h,i,a] \n",
    "                            for i in reachable_pos if i!=j\n",
    "                            for h in all_pos if h!=i)\n",
    "                    for a in agent_list\n",
    "                    for j in reachable_pos), \n",
    "                  name=\"RouteInTime\")"
   ]
  },
  {
   "cell_type": "markdown",
   "metadata": {},
   "source": [
    "#### Working day constraint"
   ]
  },
  {
   "cell_type": "code",
   "execution_count": 15,
   "metadata": {},
   "outputs": [],
   "source": [
    "# Sum of minutes spent in: travels, servicing clients, waiting, eating at lunch \n",
    "_= mod.addConstrs((quicksum(x[i,j,a] * \n",
    "                            distance_matrix[i if i in no_duplicates_pos else 0][j if j in no_duplicates_pos else 0]\n",
    "                           for i in reachable_pos\n",
    "                           for j in reachable_pos) +\n",
    "                   quicksum(x[i,j,a] * \n",
    "                            data_dict[j if j in no_duplicates_pos else 0]['SERVICE']\n",
    "                           for i in all_pos \n",
    "                           for j in reachable_pos) +\n",
    "                   quicksum(w[i,a]\n",
    "                           for i in reachable_pos) +\n",
    "                   WORKING_TIME_RANGE[0] + \n",
    "                   quicksum(l[i,j,a]\n",
    "                            for i in reachable_pos\n",
    "                            for j in reachable_pos) * \n",
    "                   LUNCH_BREAK_TIME <= WORKING_TIME_RANGE[1]\n",
    "                   for a in agent_list),\n",
    "                  name=\"MaxHours\")"
   ]
  },
  {
   "cell_type": "markdown",
   "metadata": {},
   "source": [
    "### Objective Function\n",
    "\n",
    "This objective funtion want to minimize time spent traveling between clients and awaiting for clients time windows."
   ]
  },
  {
   "cell_type": "code",
   "execution_count": 16,
   "metadata": {},
   "outputs": [],
   "source": [
    "mod.setObjective(quicksum(x[i,j,a] * \n",
    "                          distance_matrix[i if i in no_duplicates_pos else 0][j if j in no_duplicates_pos else 0]\n",
    "                  for i in all_pos\n",
    "                  for j in all_pos\n",
    "                  for a in agent_list) + \n",
    "                 quicksum(w[i,a]\n",
    "                  for i in reachable_pos\n",
    "                  for a in agent_list), \n",
    "                 GRB.MINIMIZE)"
   ]
  },
  {
   "cell_type": "markdown",
   "metadata": {},
   "source": [
    "### Model optimization"
   ]
  },
  {
   "cell_type": "code",
   "execution_count": 17,
   "metadata": {},
   "outputs": [
    {
     "name": "stdout",
     "output_type": "stream",
     "text": [
      "Changed value of parameter Method to 0\n",
      "   Prev: -1  Min: -1  Max: 5  Default: -1\n",
      "Changed value of parameter TimeLimit to 2000.0\n",
      "   Prev: inf  Min: 0.0  Max: inf  Default: inf\n",
      "Gurobi Optimizer version 9.1.2 build v9.1.2rc0 (linux64)\n",
      "Thread count: 6 physical cores, 12 logical processors, using up to 12 threads\n",
      "Optimize a model with 18385 rows, 16131 columns and 79515 nonzeros\n",
      "Model fingerprint: 0xe26364b5\n",
      "Model has 10272 quadratic constraints\n",
      "Model has 3 general constraints\n",
      "Variable types: 0 continuous, 16131 integer (10584 binary)\n",
      "Coefficient statistics:\n",
      "  Matrix range     [1e+00, 3e+04]\n",
      "  QMatrix range    [1e+00, 2e+03]\n",
      "  QLMatrix range   [1e+00, 2e+04]\n",
      "  Objective range  [1e+00, 1e+02]\n",
      "  Bounds range     [1e+00, 1e+00]\n",
      "  RHS range        [1e+00, 3e+04]\n",
      "  QRHS range       [4e+03, 4e+03]\n",
      "Presolve removed 10521 rows and 7956 columns\n",
      "Presolve time: 0.27s\n",
      "Presolved: 216913 rows, 82044 columns, 601005 nonzeros\n",
      "Presolved model has 5169 SOS constraint(s)\n",
      "Variable types: 0 continuous, 82044 integer (10212 binary)\n",
      "\n",
      "Root simplex log...\n",
      "\n",
      "Iteration    Objective       Primal Inf.    Dual Inf.      Time\n",
      "       0    7.1300000e+02   2.303469e+03   3.128227e+07      8s\n",
      "    1585    1.1155626e+03   0.000000e+00   1.331326e+03      8s\n",
      "    5879    7.1500000e+02   0.000000e+00   0.000000e+00      8s\n",
      "\n",
      "Root relaxation: objective 7.150000e+02, 5879 iterations, 0.54 seconds\n",
      "Total elapsed time = 8.36s\n",
      "\n",
      "    Nodes    |    Current Node    |     Objective Bounds      |     Work\n",
      " Expl Unexpl |  Obj  Depth IntInf | Incumbent    BestBd   Gap | It/Node Time\n",
      "\n",
      "     0     0  715.00000    0  470          -  715.00000      -     -    9s\n",
      "     0     0  715.05102    0  859          -  715.05102      -     -   11s\n",
      "     0     0  716.00000    0 1003          -  716.00000      -     -   12s\n",
      "     0     0  716.00000    0  891          -  716.00000      -     -   13s\n",
      "     0     0  717.00000    0  820          -  717.00000      -     -   15s\n",
      "     0     0  717.00000    0  513          -  717.00000      -     -   16s\n",
      "     0     0  720.34219    0  824          -  720.34219      -     -   20s\n",
      "     0     0  720.75000    0  708          -  720.75000      -     -   21s\n",
      "     0     0  720.75000    0  666          -  720.75000      -     -   22s\n",
      "H    0     0                     736.0000000  720.75000  2.07%     -   24s\n",
      "     0     0  736.00000    0  937  736.00000  736.00000  0.00%     -   24s\n",
      "\n",
      "Cutting planes:\n",
      "  Gomory: 3\n",
      "  Cover: 6\n",
      "  Implied bound: 60\n",
      "  MIR: 26\n",
      "  Flow cover: 41\n",
      "  GUB cover: 2\n",
      "  Zero half: 3\n",
      "  RLT: 86\n",
      "  Relax-and-lift: 56\n",
      "\n",
      "Explored 1 nodes (58837 simplex iterations) in 24.45 seconds\n",
      "Thread count was 12 (of 12 available processors)\n",
      "\n",
      "Solution count 1: 736 \n",
      "\n",
      "Optimal solution found (tolerance 1.00e-04)\n",
      "Best objective 7.360000000000e+02, best bound 7.360000000000e+02, gap 0.0000%\n"
     ]
    }
   ],
   "source": [
    "mod.params.Method=0\n",
    "mod.params.TimeLimit=2000\n",
    "#mod.params.SolutionLimit=2\n",
    "mod.optimize()"
   ]
  },
  {
   "cell_type": "markdown",
   "metadata": {},
   "source": [
    "## Printing results\n",
    "\n",
    "First i'll extract agents trips with relative data and order those trips."
   ]
  },
  {
   "cell_type": "code",
   "execution_count": 18,
   "metadata": {},
   "outputs": [],
   "source": [
    "def domino(trip):\n",
    "    \"\"\" This function calculate a domino sorted trip from a random one.\"\"\"\n",
    "    sorted_trip = list()\n",
    "    sorted_visit = list()\n",
    "    # Set dest as fitticious start position\n",
    "    dest = start_pos\n",
    "    # If trip not empty\n",
    "    while len(trip):\n",
    "        # For each position couple ([start, end]) in trip\n",
    "        for t in trip:\n",
    "            # If start position is dest\n",
    "            if t[0] == dest:\n",
    "                # If positions in couple aren't fitticious start position\n",
    "                # append couple replacing fitticious offices with real one\n",
    "                if t[0] != start_pos and t[1] != start_pos:\n",
    "                    sorted_trip.append((t[0] if t[0] < CLIENTS else 0, \n",
    "                                        t[1] if t[1] < CLIENTS else 0))\n",
    "                # Update destination\n",
    "                dest = t[1]\n",
    "                break\n",
    "        # If fitticious end is reached stop loop oterwhise append latest \n",
    "        # position reached\n",
    "        if dest == start_pos:\n",
    "            break\n",
    "        else:\n",
    "            sorted_visit.append(dest if dest < CLIENTS else 0)\n",
    "    return sorted_trip, sorted_visit\n",
    "\n",
    "# Initialize main lists\n",
    "domino_list = list()\n",
    "agent_visit_list = list()\n",
    "\n",
    "# For each agent\n",
    "for a in agent_list:\n",
    "    agent_trip = list()\n",
    "    # For each position\n",
    "    for i in all_pos:\n",
    "        # For each other position\n",
    "        for j in all_pos:\n",
    "            # If agent do trip between those store trip\n",
    "            if x[i,j,a].X:\n",
    "                agent_trip.append((i,j))\n",
    "                \n",
    "    # Sort trip locations and make a domino list \n",
    "    domino_agent, agent_visit = domino(agent_trip)\n",
    "\n",
    "    # update main lists\n",
    "    domino_list.append(domino_agent)\n",
    "    agent_visit_list.append(agent_visit)"
   ]
  },
  {
   "cell_type": "markdown",
   "metadata": {},
   "source": [
    "### Print sorted agents trips"
   ]
  },
  {
   "cell_type": "code",
   "execution_count": 19,
   "metadata": {},
   "outputs": [
    {
     "name": "stdout",
     "output_type": "stream",
     "text": [
      "Agent 1 trip: [14, 13, 12, 17, 3, 9, 18, 16, 0]\n",
      "Agent 2 trip: [0, 8, 11, 2]\n",
      "Agent 3 trip: [0, 7, 6, 19, 5, 20, 10, 15, 4, 1]\n"
     ]
    }
   ],
   "source": [
    "# For each agent trip\n",
    "for a, avl in enumerate(agent_visit_list):\n",
    "    print(f\"Agent {a+1} trip: {avl}\")"
   ]
  },
  {
   "cell_type": "markdown",
   "metadata": {},
   "source": [
    "### Print trips stats"
   ]
  },
  {
   "cell_type": "code",
   "execution_count": 20,
   "metadata": {},
   "outputs": [
    {
     "name": "stdout",
     "output_type": "stream",
     "text": [
      "\n",
      "Agent 1\n",
      "  POSITION  COST TO REACH  REACHED AT  SERVICE TIME  REAL S. TIME  LEAVING TIME  LUNCH_BEFORE  WAIT_BEFORE\n",
      "0       14            0.0         0.0        2400.0        2400.0        2400.0           0.0         -0.0\n",
      "1       13           33.0      2433.0        2400.0        2400.0        4833.0           0.0         -0.0\n",
      "2       12           19.0      4852.0        2400.0        2400.0        7252.0           0.0         -0.0\n",
      "3       17           48.0      8200.0        2400.0        2400.0       10600.0           0.0         -0.0\n",
      "4        3           26.0     10627.0        2400.0        2400.0       13027.0           0.0         -0.0\n",
      "5        9            9.0     13038.0        2400.0        2400.0       15438.0           0.0         -0.0\n",
      "6       18           14.0     15452.0        2400.0        2400.0       17852.0           0.0         -0.0\n",
      "7       16           48.0     19700.0        2400.0        2400.0       22100.0           1.0         -0.0\n",
      "8   OFFICE           55.0     22155.0        3600.0        3600.0       25755.0           0.0         -0.0\n",
      "\n",
      "Agent 2\n",
      "  POSITION  COST TO REACH  REACHED AT  SERVICE TIME  REAL S. TIME  LEAVING TIME  LUNCH_BEFORE  WAIT_BEFORE\n",
      "0   OFFICE            0.0         0.0        3600.0        3600.0        3600.0           0.0          0.0\n",
      "1        8           36.0      3636.0        2400.0        2400.0        6036.0           0.0         -0.0\n",
      "2       11            8.0      6973.0        2400.0        2400.0        9373.0           0.0         -0.0\n",
      "3        2           27.0      9400.0        2400.0        2400.0       11800.0           0.0         -0.0\n",
      "\n",
      "Agent 3\n",
      "  POSITION  COST TO REACH  REACHED AT  SERVICE TIME  REAL S. TIME  LEAVING TIME  LUNCH_BEFORE  WAIT_BEFORE\n",
      "0   OFFICE            0.0         0.0        3600.0        3600.0        3600.0           0.0          0.0\n",
      "1        7          104.0      3704.0        2400.0        2400.0        6104.0           0.0         -0.0\n",
      "2        6           17.0      6121.0        2400.0        2400.0        8521.0           0.0         -0.0\n",
      "3       19           16.0      8537.0        2400.0        2400.0       10937.0           0.0         -0.0\n",
      "4        5           36.0     10973.0        2400.0        2400.0       13373.0           0.0         -0.0\n",
      "5       20           16.0     13389.0        2400.0        2400.0       15789.0           0.0         -0.0\n",
      "6       10           23.0     15812.0        2400.0        2400.0       18212.0           0.0         -0.0\n",
      "7       15           65.0     20077.0        2400.0        2400.0       22477.0           1.0         -0.0\n",
      "8        4            4.0     23386.0        2400.0        2400.0       25786.0           0.0         -0.0\n",
      "9        1           14.0     25800.0        2400.0        2400.0       28200.0           0.0         -0.0\n"
     ]
    }
   ],
   "source": [
    "# Enlarge printable size\n",
    "pd.set_option('display.max_columns', 10)\n",
    "pd.set_option('display.width', 1000)\n",
    "\n",
    "stats = list()\n",
    "# For each agent visit list\n",
    "for a, avl in enumerate(agent_visit_list):\n",
    "    agent_trip_desc = list()\n",
    "    # For each visited position\n",
    "    for i, v in enumerate(avl):\n",
    "        prev = avl[i-1] if i else start_pos\n",
    "        # If previous is a fitticious office\n",
    "        if prev == 0 and i-2 > 0:\n",
    "            prev = avl[i-2]+CLIENTS\n",
    "\n",
    "        # If fitticious office \n",
    "        v_mod = prev+CLIENTS if not v and i-1 > 0 else v\n",
    "             \n",
    "        # Get stats\n",
    "        pos_desc = {\"POSITION\": v if v else 'OFFICE', \n",
    "                    \"COST TO REACH\": distance_matrix[avl[i-1]][v] if i else 0.,\n",
    "                    \"REACHED AT\": s[v_mod,a].X,\n",
    "                    \"SERVICE TIME\": data_dict[v]['SERVICE'],\n",
    "                    \"REAL S. TIME\": c[prev, v_mod, a].X,\n",
    "                    \"LEAVING TIME\": s[v_mod, a].X+c[prev, v_mod, a].X,\n",
    "                    \"LUNCH_BEFORE\": l[prev, v_mod, a].X,\n",
    "                    \"WAIT_BEFORE\": w[v_mod, a].X\n",
    "                   }\n",
    "        agent_trip_desc.append(pos_desc)\n",
    "    \n",
    "    # Print agent stats\n",
    "    print(f\"\\nAgent {a+1}\")\n",
    "    print(pd.DataFrame(agent_trip_desc))"
   ]
  },
  {
   "cell_type": "markdown",
   "metadata": {},
   "source": [
    "### Plot the trips graph"
   ]
  },
  {
   "cell_type": "code",
   "execution_count": 21,
   "metadata": {},
   "outputs": [],
   "source": [
    "def plot_model(list_of_trips, positions, limit=math.inf):\n",
    "    \"\"\"This function is used to plot graph\"\"\"\n",
    "    # Create figure\n",
    "    plt.figure(figsize=(16,9))\n",
    "    G = nx.Graph()\n",
    "    # Add nodes to graph\n",
    "    G.add_nodes_from({pk for pk in positions.keys() if pk < limit})\n",
    "    \n",
    "    # Set labels dict\n",
    "    node_labels = dict()\n",
    "    # Set nodes positions\n",
    "    for n, p in positions.items():\n",
    "        if n < limit:\n",
    "            G.nodes[n]['pos'] = p\n",
    "            node_labels[n] = n\n",
    "\n",
    "    # Define edges colors\n",
    "    edge_colors = [plt.cm.tab20.colors[i] for i in range(len(list_of_trips))]\n",
    "    \n",
    "    # Define edges labels list\n",
    "    edge_labels = dict()\n",
    "    \n",
    "    # Add edges\n",
    "    for i,trip in enumerate(list_of_trips):\n",
    "        for j,t in enumerate(trip):\n",
    "            G.add_edge(t[0], t[1], \n",
    "                       color=edge_colors[i], \n",
    "                       alpha=0.5, \n",
    "                       weight=4)\n",
    "            edge_labels.update({t: f\"{j} (LUNCH)\" if l[t[0], t[1],i].X else j})\n",
    "            \n",
    "    # Set edges parameters \n",
    "    edges = G.edges()\n",
    "    colors = [G[u][v]['color'] for u,v in edges]\n",
    "    weights = [G[u][v]['weight'] for u,v in edges]\n",
    "    alphas = [G[u][v]['alpha'] for u,v in edges]\n",
    "\n",
    "    # Draw Nodes\n",
    "    nx.draw_networkx_nodes(G, positions,\n",
    "                           node_size=200,\n",
    "                           node_color='c')\n",
    "    # Draw Labels\n",
    "    nx.draw_networkx_labels(G, positions, \n",
    "                            node_labels, \n",
    "                            font_size=10, \n",
    "                            font_color='k')\n",
    "    # Draw Edges \n",
    "    nx.draw_networkx_edges(G, positions, \n",
    "                           alpha=0.5, \n",
    "                           width=weights, \n",
    "                           edge_color=colors)\n",
    "    # Draw Edges Labels\n",
    "    nx.draw_networkx_edge_labels(G, positions, \n",
    "                                 edge_labels=edge_labels)\n",
    "\n",
    "    # Show graph\n",
    "    plt.show()"
   ]
  },
  {
   "cell_type": "code",
   "execution_count": 22,
   "metadata": {},
   "outputs": [
    {
     "data": {
      "image/png": "[encoded data removed]",
      "text/plain": [
       "<Figure size 1152x648 with 1 Axes>"
      ]
     },
     "metadata": {},
     "output_type": "display_data"
    }
   ],
   "source": [
    "plot_model(domino_list, positions, limit=CLIENTS)"
   ]
  }
 ],
 "metadata": {
  "kernelspec": {
   "display_name": "Python 3",
   "language": "python",
   "name": "python3"
  },
  "language_info": {
   "codemirror_mode": {
    "name": "ipython",
    "version": 3
   },
   "file_extension": ".py",
   "mimetype": "text/x-python",
   "name": "python",
   "nbconvert_exporter": "python",
   "pygments_lexer": "ipython3",
   "version": "3.8.5"
  }
 },
 "nbformat": 4,
 "nbformat_minor": 4
}

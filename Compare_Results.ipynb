{
 "cells": [
  {
   "cell_type": "markdown",
   "metadata": {},
   "source": [
    "# Compare IQP results with Heuristic ones"
   ]
  },
  {
   "cell_type": "code",
   "execution_count": 1,
   "metadata": {},
   "outputs": [],
   "source": [
    "import pandas as pd\n",
    "from pickle import load\n",
    "import plotly.graph_objects as go\n",
    "import networkx as nx\n",
    "import matplotlib.pyplot as plt\n",
    "import math"
   ]
  },
  {
   "cell_type": "code",
   "execution_count": 2,
   "metadata": {},
   "outputs": [],
   "source": [
    "RESULTS = \"test_1\""
   ]
  },
  {
   "cell_type": "markdown",
   "metadata": {},
   "source": [
    "## Getting results"
   ]
  },
  {
   "cell_type": "code",
   "execution_count": 3,
   "metadata": {},
   "outputs": [],
   "source": [
    "iqp_results = load(open(f\"./TEST_SETS/{RESULTS}_solution_iqp\", \"rb\"))\n",
    "heuristic_results = load(open(f\"./TEST_SETS/{RESULTS}_solution_heuristic\", \"rb\"))"
   ]
  },
  {
   "cell_type": "markdown",
   "metadata": {},
   "source": [
    "## Getting costs"
   ]
  },
  {
   "cell_type": "code",
   "execution_count": 4,
   "metadata": {},
   "outputs": [
    {
     "ename": "ValueError",
     "evalue": "DataFrame constructor not properly called!",
     "output_type": "error",
     "traceback": [
      "\u001b[1;31m---------------------------------------------------------------------------\u001b[0m",
      "\u001b[1;31mValueError\u001b[0m                                Traceback (most recent call last)",
      "\u001b[1;32m<ipython-input-4-07f99cb313a3>\u001b[0m in \u001b[0;36m<module>\u001b[1;34m\u001b[0m\n\u001b[0;32m      4\u001b[0m \u001b[1;32mif\u001b[0m \u001b[1;34m'stats'\u001b[0m \u001b[1;32min\u001b[0m \u001b[0miqp_results\u001b[0m\u001b[1;33m:\u001b[0m\u001b[1;33m\u001b[0m\u001b[1;33m\u001b[0m\u001b[0m\n\u001b[0;32m      5\u001b[0m     \u001b[1;32mfor\u001b[0m \u001b[0ma\u001b[0m\u001b[1;33m,\u001b[0m\u001b[0mr\u001b[0m \u001b[1;32min\u001b[0m \u001b[0miqp_results\u001b[0m\u001b[1;33m[\u001b[0m\u001b[1;34m'stats'\u001b[0m\u001b[1;33m]\u001b[0m\u001b[1;33m.\u001b[0m\u001b[0mitems\u001b[0m\u001b[1;33m(\u001b[0m\u001b[1;33m)\u001b[0m\u001b[1;33m:\u001b[0m\u001b[1;33m\u001b[0m\u001b[1;33m\u001b[0m\u001b[0m\n\u001b[1;32m----> 6\u001b[1;33m         \u001b[0miqp_data\u001b[0m\u001b[1;33m.\u001b[0m\u001b[0mupdate\u001b[0m\u001b[1;33m(\u001b[0m\u001b[1;33m{\u001b[0m\u001b[0ma\u001b[0m\u001b[1;33m:\u001b[0m \u001b[0mpd\u001b[0m\u001b[1;33m.\u001b[0m\u001b[0mDataFrame\u001b[0m\u001b[1;33m(\u001b[0m\u001b[0mr\u001b[0m\u001b[1;33m)\u001b[0m\u001b[1;33m}\u001b[0m\u001b[1;33m)\u001b[0m\u001b[1;33m\u001b[0m\u001b[1;33m\u001b[0m\u001b[0m\n\u001b[0m\u001b[0;32m      7\u001b[0m         \u001b[0miqp_cost\u001b[0m\u001b[1;33m.\u001b[0m\u001b[0mupdate\u001b[0m\u001b[1;33m(\u001b[0m\u001b[1;33m{\u001b[0m\u001b[0ma\u001b[0m\u001b[1;33m:\u001b[0m \u001b[0miqp_data\u001b[0m\u001b[1;33m[\u001b[0m\u001b[0ma\u001b[0m\u001b[1;33m]\u001b[0m\u001b[1;33m[\u001b[0m\u001b[1;34m'COST TO REACH'\u001b[0m\u001b[1;33m]\u001b[0m\u001b[1;33m.\u001b[0m\u001b[0msum\u001b[0m\u001b[1;33m(\u001b[0m\u001b[1;33m)\u001b[0m \u001b[1;33m+\u001b[0m \u001b[0miqp_data\u001b[0m\u001b[1;33m[\u001b[0m\u001b[0ma\u001b[0m\u001b[1;33m]\u001b[0m\u001b[1;33m[\u001b[0m\u001b[1;34m'WAIT_BEFORE'\u001b[0m\u001b[1;33m]\u001b[0m\u001b[1;33m.\u001b[0m\u001b[0msum\u001b[0m\u001b[1;33m(\u001b[0m\u001b[1;33m)\u001b[0m\u001b[1;33m}\u001b[0m\u001b[1;33m)\u001b[0m\u001b[1;33m\u001b[0m\u001b[1;33m\u001b[0m\u001b[0m\n",
      "\u001b[1;32m~\\AppData\\Roaming\\Python\\Python37\\site-packages\\pandas\\core\\frame.py\u001b[0m in \u001b[0;36m__init__\u001b[1;34m(self, data, index, columns, dtype, copy)\u001b[0m\n\u001b[0;32m    483\u001b[0m                 )\n\u001b[0;32m    484\u001b[0m             \u001b[1;32melse\u001b[0m\u001b[1;33m:\u001b[0m\u001b[1;33m\u001b[0m\u001b[1;33m\u001b[0m\u001b[0m\n\u001b[1;32m--> 485\u001b[1;33m                 \u001b[1;32mraise\u001b[0m \u001b[0mValueError\u001b[0m\u001b[1;33m(\u001b[0m\u001b[1;34m\"DataFrame constructor not properly called!\"\u001b[0m\u001b[1;33m)\u001b[0m\u001b[1;33m\u001b[0m\u001b[1;33m\u001b[0m\u001b[0m\n\u001b[0m\u001b[0;32m    486\u001b[0m \u001b[1;33m\u001b[0m\u001b[0m\n\u001b[0;32m    487\u001b[0m         \u001b[0mNDFrame\u001b[0m\u001b[1;33m.\u001b[0m\u001b[0m__init__\u001b[0m\u001b[1;33m(\u001b[0m\u001b[0mself\u001b[0m\u001b[1;33m,\u001b[0m \u001b[0mmgr\u001b[0m\u001b[1;33m,\u001b[0m \u001b[0mfastpath\u001b[0m\u001b[1;33m=\u001b[0m\u001b[1;32mTrue\u001b[0m\u001b[1;33m)\u001b[0m\u001b[1;33m\u001b[0m\u001b[1;33m\u001b[0m\u001b[0m\n",
      "\u001b[1;31mValueError\u001b[0m: DataFrame constructor not properly called!"
     ]
    }
   ],
   "source": [
    "# Getting IQP costs\n",
    "iqp_cost = dict()\n",
    "iqp_data = dict()\n",
    "if 'stats' in iqp_results:\n",
    "    for a,r in iqp_results['stats'].items():\n",
    "        iqp_data.update({a: pd.DataFrame(r)})\n",
    "        iqp_cost.update({a: iqp_data[a]['COST TO REACH'].sum() + iqp_data[a]['WAIT_BEFORE'].sum()})"
   ]
  },
  {
   "cell_type": "code",
   "execution_count": null,
   "metadata": {},
   "outputs": [],
   "source": [
    "# Getting HEURISTIC costs\n",
    "heu_cost = dict()\n",
    "heu_data = dict()\n",
    "if 'stats' in heuristic_results:\n",
    "    for a,r in heuristic_results['stats'].items():\n",
    "        heu_data.update({a: pd.DataFrame(r)})\n",
    "        heu_cost.update({a: heu_data[a]['COST TO REACH'].sum() + heu_data[a]['WAIT_BEFORE'].sum()})"
   ]
  },
  {
   "cell_type": "markdown",
   "metadata": {},
   "source": [
    "### Plot costs"
   ]
  },
  {
   "cell_type": "code",
   "execution_count": null,
   "metadata": {},
   "outputs": [],
   "source": [
    "# Create figure\n",
    "fig = go.Figure()\n",
    "\n",
    "# Plot traces\n",
    "fig.add_trace(go.Bar(name=\"IQP\", \n",
    "                     x=[str(k) for k in iqp_cost.keys()]+['ALL'], \n",
    "                     y=list(iqp_cost.values())+[sum(iqp_cost.values())]))\n",
    "fig.add_trace(go.Bar(name=\"HEURISTIC\", \n",
    "                     x=[str(k) for k in heu_cost.keys()]+['ALL'], \n",
    "                     y=list(heu_cost.values())+[sum(heu_cost.values())]))\n",
    "\n",
    "# Change the bar mode and axis\n",
    "fig.update_layout(barmode='group',\n",
    "                  xaxis_title=\"Agent\",\n",
    "                  yaxis_title=\"Cost\",)\n",
    "\n",
    "fig.show()"
   ]
  },
  {
   "cell_type": "raw",
   "metadata": {},
   "source": [
    "\\pagebreak"
   ]
  },
  {
   "cell_type": "markdown",
   "metadata": {},
   "source": [
    "## Plotting paths"
   ]
  },
  {
   "cell_type": "code",
   "execution_count": null,
   "metadata": {},
   "outputs": [],
   "source": [
    "def plot_model(list_of_trips, positions, lunch, limit=math.inf):\n",
    "    \"\"\" Function used to plot trips graph.\n",
    "        :param list_of_trips: List of edges,\n",
    "        :param positions: Nodes coordinates,\n",
    "        :param limit: Limit number of nodes,\n",
    "    \"\"\"\n",
    "    # Create figure\n",
    "    plt.figure(figsize=(16,9))\n",
    "    G = nx.Graph()\n",
    "    # Add nodes to graph\n",
    "    G.add_nodes_from({pk for pk in positions.keys() if pk < limit})\n",
    "    \n",
    "    # Set labels dict\n",
    "    node_labels = dict()\n",
    "    # Set nodes positions\n",
    "    for n, p in positions.items():\n",
    "        if n < limit:\n",
    "            G.nodes[n]['pos'] = p\n",
    "            node_labels[n] = n\n",
    "\n",
    "    # Define edges colors\n",
    "    edge_colors = [plt.cm.tab20.colors[i] for i in range(len(list_of_trips))]\n",
    "    \n",
    "    # Define edges labels list\n",
    "    edge_labels = dict()\n",
    "    \n",
    "    # Add edges\n",
    "    for i,trip in enumerate(list_of_trips):\n",
    "        for j,t in enumerate(trip):\n",
    "            G.add_edge(t[0], t[1], \n",
    "                       color=edge_colors[i], \n",
    "                       alpha=0.5, \n",
    "                       weight=4)\n",
    "            edge_labels.update({t: f\"{j} (LUNCH)\" if lunch[i][j+1] else j})\n",
    "            \n",
    "    # Set edges parameters \n",
    "    edges = G.edges()\n",
    "    colors = [G[u][v]['color'] for u,v in edges]\n",
    "    weights = [G[u][v]['weight'] for u,v in edges]\n",
    "    alphas = [G[u][v]['alpha'] for u,v in edges]\n",
    "\n",
    "    # Draw Nodes\n",
    "    nx.draw_networkx_nodes(G, positions,\n",
    "                           node_size=200,\n",
    "                           node_color='c')\n",
    "    # Draw Labels\n",
    "    nx.draw_networkx_labels(G, positions, \n",
    "                            node_labels, \n",
    "                            font_size=10, \n",
    "                            font_color='k')\n",
    "    # Draw Edges \n",
    "    nx.draw_networkx_edges(G, positions, \n",
    "                           alpha=0.5, \n",
    "                           width=weights, \n",
    "                           edge_color=colors)\n",
    "    # Draw Edges Labels\n",
    "    nx.draw_networkx_edge_labels(G, positions, \n",
    "                                 edge_labels=edge_labels)\n",
    "\n",
    "    # Show graph\n",
    "    plt.show()"
   ]
  },
  {
   "cell_type": "raw",
   "metadata": {},
   "source": [
    "\\pagebreak"
   ]
  },
  {
   "cell_type": "markdown",
   "metadata": {},
   "source": [
    "## IQP paths"
   ]
  },
  {
   "cell_type": "code",
   "execution_count": null,
   "metadata": {},
   "outputs": [],
   "source": [
    "if 'domino' in iqp_results and 'positions' in iqp_results:\n",
    "    plot_model(iqp_results['domino'], \n",
    "               iqp_results['positions'], \n",
    "               [d['LUNCH_BEFORE'].astype(bool).to_list() for d in iqp_data.values()])\n",
    "else:\n",
    "    print(\"No data available!\")"
   ]
  },
  {
   "cell_type": "markdown",
   "metadata": {},
   "source": [
    "## Heuristic paths"
   ]
  },
  {
   "cell_type": "code",
   "execution_count": null,
   "metadata": {},
   "outputs": [],
   "source": [
    "if 'domino' in heuristic_results and 'positions' in heuristic_results:\n",
    "    plot_model(heuristic_results['domino'], heuristic_results['positions'])\n",
    "else:\n",
    "    print(\"No data available!\")"
   ]
  },
  {
   "cell_type": "markdown",
   "metadata": {},
   "source": [
    "## Results"
   ]
  },
  {
   "cell_type": "markdown",
   "metadata": {},
   "source": [
    "### IQP results"
   ]
  },
  {
   "cell_type": "code",
   "execution_count": null,
   "metadata": {},
   "outputs": [],
   "source": [
    "# Plot results table\n",
    "for a,d in iqp_data.items():\n",
    "    # Create figure\n",
    "    fig = go.Figure(data=[go.Table(\n",
    "    header=dict(values=list(d.columns),\n",
    "                fill_color='royalblue',\n",
    "                align='left',\n",
    "                font=dict(color='white', size=12),),\n",
    "    cells=dict(values=list(d.transpose().values),\n",
    "               fill_color='lavender',\n",
    "               align='left'))\n",
    "    ])\n",
    "    # Set title \n",
    "    fig.update_layout(title=f\"Agent {a}\")\n",
    "    # Show figure\n",
    "    fig.show()"
   ]
  },
  {
   "cell_type": "markdown",
   "metadata": {},
   "source": [
    "### Heuristic results"
   ]
  },
  {
   "cell_type": "code",
   "execution_count": null,
   "metadata": {},
   "outputs": [],
   "source": [
    "# Plot results table\n",
    "for a,d in heu_data.items():\n",
    "    # Create figure\n",
    "    fig = go.Figure(data=[go.Table(\n",
    "    header=dict(values=list(d.columns),\n",
    "                fill_color='royalblue',\n",
    "                align='left',\n",
    "                font=dict(color='white', size=12),),\n",
    "    cells=dict(values=list(d.transpose().values),\n",
    "               fill_color='lavender',\n",
    "               align='left'))\n",
    "    ])\n",
    "    # Set title \n",
    "    fig.update_layout(title=f\"Agent {a}\")\n",
    "    # Show figure\n",
    "    fig.show()"
   ]
  }
 ],
 "metadata": {
  "kernelspec": {
   "display_name": "Python 3",
   "language": "python",
   "name": "python3"
  },
  "language_info": {
   "codemirror_mode": {
    "name": "ipython",
    "version": 3
   },
   "file_extension": ".py",
   "mimetype": "text/x-python",
   "name": "python",
   "nbconvert_exporter": "python",
   "pygments_lexer": "ipython3",
   "version": "3.7.4"
  }
 },
 "nbformat": 4,
 "nbformat_minor": 5
}

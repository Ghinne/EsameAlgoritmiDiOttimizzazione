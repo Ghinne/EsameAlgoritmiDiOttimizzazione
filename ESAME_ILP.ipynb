{
 "cells": [
  {
   "cell_type": "code",
   "execution_count": 1,
   "metadata": {},
   "outputs": [],
   "source": [
    "# Import libraries\n",
    "from gurobipy import*\n",
    "\n",
    "import math\n",
    "import matplotlib.pyplot as plt\n",
    "import networkx as nx\n",
    "import numpy as np"
   ]
  },
  {
   "cell_type": "code",
   "execution_count": 2,
   "metadata": {},
   "outputs": [],
   "source": [
    "# File path \n",
    "FILE = \"./DaSilvaUrrutia/n200w100.001.txt\""
   ]
  },
  {
   "cell_type": "code",
   "execution_count": 3,
   "metadata": {},
   "outputs": [],
   "source": [
    "# Default params\n",
    "SUPPORTED_FORMAT = ['NUM', 'X', 'Y', 'DEMAND', 'READYTIME', 'DUEDATE', 'SERVICE']\n",
    "MINUTES = 60\n",
    "HOURS = 3600\n",
    "OFFSET_TIMES = 8*HOURS\n",
    "\n",
    "COLUMNS_OPS = {'NUM': lambda x: float(x),\n",
    "               'X': lambda x: float(x),\n",
    "               'Y': lambda x: float(x),\n",
    "               'DEMAND': lambda x: 1,\n",
    "               #'READYTIME': lambda x: float(x)+OFFSET_TIMES,\n",
    "               'READYTIME': lambda x: float(x),\n",
    "               #'DUEDATE': lambda x: float(x)+OFFSET_TIMES,\n",
    "               'DUEDATE': lambda x: float(x),\n",
    "\n",
    "               'SERVICE': lambda x: 30*MINUTES\n",
    "              }\n",
    "\n",
    "AGENTS = 10\n",
    "\n",
    "TIME_PER_DISTANCE = 1\n",
    "\n",
    "#WORKING_TIME_RANGE = (OFFSET_TIMES, OFFSET_TIMES + 8*HOURS)\n",
    "WORKING_TIME_RANGE = (0, 8*HOURS)\n",
    "\n",
    "#LUNCH_BREAK_RANGE = (12*HOURS, 13.5*HOURS)\n",
    "LUNCH_BREAK_RANGE = (12*HOURS-OFFSET_TIMES, 13.5*HOURS-OFFSET_TIMES)\n",
    "LUNCH_BREAK_TIME = 30*MINUTES\n",
    "\n",
    "OFFICE_NUM = 0\n",
    "OFFICE_X = .0\n",
    "OFFICE_Y = .0\n",
    "OFFICE_READYTIME = WORKING_TIME_RANGE[0]\n",
    "OFFICE_DUEDATE = WORKING_TIME_RANGE[1]\n",
    "OFFICE_SERVICE = 1*HOURS"
   ]
  },
  {
   "cell_type": "code",
   "execution_count": 4,
   "metadata": {},
   "outputs": [
    {
     "data": {
      "text/plain": [
       "(14400, 19800.0)"
      ]
     },
     "execution_count": 4,
     "metadata": {},
     "output_type": "execute_result"
    }
   ],
   "source": [
    "LUNCH_BREAK_RANGE"
   ]
  },
  {
   "cell_type": "code",
   "execution_count": 5,
   "metadata": {},
   "outputs": [
    {
     "data": {
      "text/plain": [
       "(0, 28800)"
      ]
     },
     "execution_count": 5,
     "metadata": {},
     "output_type": "execute_result"
    }
   ],
   "source": [
    "WORKING_TIME_RANGE"
   ]
  },
  {
   "cell_type": "code",
   "execution_count": 6,
   "metadata": {},
   "outputs": [],
   "source": [
    "def read_input_tsptw(filename):\n",
    "    \"\"\"This function is used to convert input file to usable data\"\"\"\n",
    "    nb_nodes = 0\n",
    "    \n",
    "    data_dict = dict()\n",
    "    \n",
    "    nodes_x = list()\n",
    "    nodes_y = list()\n",
    "       \n",
    "    # Open file and read lines \n",
    "    with open(filename, \"r\") as file:\n",
    "        # Initialize columns in empty dict\n",
    "        columns = file.readline().replace(\"#\",\"\").split()\n",
    "        if columns != SUPPORTED_FORMAT:\n",
    "            print(\"ERROR! Format not supported.\")\n",
    "            return \n",
    "        \n",
    "        # Add office to data\n",
    "        data_dict.update({OFFICE_NUM: {'X': OFFICE_X, \n",
    "                                       'Y': OFFICE_Y, \n",
    "                                       'DEMAND': AGENTS,\n",
    "                                       'READYTIME': OFFICE_READYTIME,\n",
    "                                       'DUEDATE': OFFICE_DUEDATE,\n",
    "                                       'SERVICE': OFFICE_SERVICE,}})\n",
    "        # Add office to nodes\n",
    "        nodes_x.append(OFFICE_X)\n",
    "        nodes_y.append(OFFICE_Y)\n",
    "            \n",
    "        # For each data line\n",
    "        for line in file.readlines():\n",
    "            node_dict = {k: COLUMNS_OPS[k](val) for k, val in zip(columns, line.split())}\n",
    "                \n",
    "            # Get id\n",
    "            node_id = node_dict.pop('NUM')\n",
    "            # Insert new node in data dict\n",
    "            data_dict.update({int(node_id): node_dict})            \n",
    "            # Get nodes positions\n",
    "            nodes_x.append(float(line.split()[columns.index('X')]))\n",
    "            nodes_y.append(float(line.split()[columns.index('Y')]))\n",
    "\n",
    "    # Get distance matrix\n",
    "    distance_matrix = compute_distance_matrix(nodes_x, nodes_y)\n",
    "    \n",
    "    return (data_dict, distance_matrix, dict(enumerate(zip(nodes_x, nodes_y))))\n",
    "\n",
    "\n",
    "def compute_distance_matrix(nodes_x, nodes_y):\n",
    "    \"\"\"This function is used to compute the distance matrix\"\"\"\n",
    "    nb_customers = len(nodes_x)\n",
    "    distance_matrix = [[None for i in range(nb_customers)] for j in range(nb_customers)]\n",
    "    for i in range(nb_customers):\n",
    "        distance_matrix[i][i] = 0\n",
    "        for j in range(nb_customers):\n",
    "            dist = compute_dist(nodes_x[i], nodes_x[j], nodes_y[i], nodes_y[j])\n",
    "            distance_matrix[i][j] = dist\n",
    "            distance_matrix[j][i] = dist\n",
    "    return distance_matrix\n",
    "\n",
    "\n",
    "def compute_dist(xi, xj, yi, yj):\n",
    "    \"\"\"This function is used to compute euclidean distance\"\"\"\n",
    "    exact_dist = math.sqrt(math.pow(xi - xj, 2) + math.pow(yi - yj, 2))\n",
    "    return int(math.floor(exact_dist + 0.5)) * TIME_PER_DISTANCE"
   ]
  },
  {
   "cell_type": "code",
   "execution_count": 7,
   "metadata": {},
   "outputs": [],
   "source": [
    "# Getting parameters\n",
    "data_dict, distance_matrix, positions = read_input_tsptw(FILE)"
   ]
  },
  {
   "cell_type": "code",
   "execution_count": 8,
   "metadata": {},
   "outputs": [
    {
     "data": {
      "text/plain": [
       "202"
      ]
     },
     "execution_count": 8,
     "metadata": {},
     "output_type": "execute_result"
    }
   ],
   "source": [
    "len(data_dict)"
   ]
  },
  {
   "cell_type": "code",
   "execution_count": 9,
   "metadata": {},
   "outputs": [],
   "source": [
    "# DEBUG RESTRICTIONS\n",
    "CLIENTS = 25\n",
    "data_dict = {k: v for k,v in data_dict.items() if k < CLIENTS}\n",
    "distance_matrix = [dm[:CLIENTS] for dm in distance_matrix[:CLIENTS]]\n",
    "\n",
    "# ADD FITTICIOUS POSITION\n",
    "distance_matrix = [dm + [0,] for dm in distance_matrix]\n",
    "distance_matrix = distance_matrix + [[0]*(CLIENTS+1)]\n",
    "# Add office to data\n",
    "data_dict.update({CLIENTS: {'X': 0, \n",
    "                            'Y': 0, \n",
    "                            'DEMAND': AGENTS,\n",
    "                            'READYTIME': WORKING_TIME_RANGE[0],\n",
    "                            'DUEDATE': WORKING_TIME_RANGE[1],\n",
    "                            'SERVICE': 0,}})\n",
    "\n",
    "# POSITIONS SETS\n",
    "all_pos = list(range(CLIENTS*2))\n",
    "start_pos = CLIENTS\n",
    "client_pos = list(range(1,CLIENTS))\n",
    "only_start_office_pos = 0\n",
    "no_duplicates_pos = list(range(0,CLIENTS))\n",
    "destination_office_pos = list(range(CLIENTS+1, CLIENTS*2))\n",
    "office_pos = [only_start_office_pos]+destination_office_pos\n",
    "reachable_pos = [p for p in range(CLIENTS*2) if p not in [start_pos,]]"
   ]
  },
  {
   "cell_type": "code",
   "execution_count": 10,
   "metadata": {},
   "outputs": [
    {
     "name": "stdout",
     "output_type": "stream",
     "text": [
      "Using license file c:\\gurobi903\\gurobi.lic\n",
      "Academic license - for non-commercial use only\n"
     ]
    }
   ],
   "source": [
    "# Create model\n",
    "mod = Model(\"TSPTW\")    "
   ]
  },
  {
   "cell_type": "code",
   "execution_count": 11,
   "metadata": {},
   "outputs": [],
   "source": [
    "# IMPORTANT! -> Office IS ONE AND ONLY ONE but because i wasn't unable to find a better solution for \n",
    "#               multiple Agent visit to it i've repeated Office (originally in position 0) in all \n",
    "#               position greater than number_of_clients + 1\n",
    "# WARNING! -> Position from number_of_clients + 2 forward are office positions reachable only from \n",
    "#             player = office_pos - number_of_clients\n",
    "# WARNING! -> Position number_of_clients + 1 is unused because position 0 is office too, Agents can\n",
    "#             only start from office 0 they can't go there"
   ]
  },
  {
   "cell_type": "code",
   "execution_count": 12,
   "metadata": {},
   "outputs": [],
   "source": [
    "# VARIABLES\n",
    "# Served client\n",
    "x = mod.addVars({(i,a): 0 for i in all_pos\n",
    "                          for a in range(AGENTS)},\n",
    "               name=\"x\",\n",
    "               vtype=GRB.BINARY)\n",
    "\n",
    "#  Agent trip\n",
    "y = mod.addVars({(i,j,a): 0 for i in all_pos\n",
    "                            for j in all_pos \n",
    "                            for a in range(AGENTS)}, \n",
    "                name=\"y\", \n",
    "                vtype=GRB.BINARY)\n",
    "\n",
    "# Serve Order\n",
    "o = mod.addVars({(i,a): 0 for i in all_pos\n",
    "                          for a in range(AGENTS)},\n",
    "               name=\"o\",\n",
    "               vtype=GRB.INTEGER)\n",
    "\n",
    "# Serve time\n",
    "s =  mod.addVars({(i,a): 0 for i in all_pos \n",
    "                           for a in range(AGENTS)}, \n",
    "                 name=\"s\", \n",
    "                 vtype=GRB.INTEGER)\n",
    "\n",
    "# Serve Client/Office lasting\n",
    "c = mod.addVars({(i,j,a): 0 for i in all_pos\n",
    "                            for j in all_pos\n",
    "                            for a in range(AGENTS)}, \n",
    "                name=\"c\", \n",
    "                vtype=GRB.INTEGER)\n",
    "\n",
    "# Wait time\n",
    "w = mod.addVars({(i,a): 0 for i in all_pos\n",
    "                          for a in range(AGENTS)}, \n",
    "                name=\"w\", \n",
    "                vtype=GRB.INTEGER)\n",
    "\n",
    "# Lunch done between customers\n",
    "l = mod.addVars({(i,j,a): 0 for i in all_pos\n",
    "                            for j in all_pos\n",
    "                            for a in range(AGENTS)}, \n",
    "                name=\"l\", \n",
    "                vtype=GRB.INTEGER)\n",
    "\n",
    "# Is lunch to do\n",
    "t = mod.addVars({(a): 0 for a in range(AGENTS)},\n",
    "               name=\"t\",\n",
    "               vtype=GRB.INTEGER)"
   ]
  },
  {
   "cell_type": "code",
   "execution_count": 13,
   "metadata": {},
   "outputs": [],
   "source": [
    "# CONSTRAINTS\n",
    "\n",
    "# All client must be visited from an Agent\n",
    "_= mod.addConstrs((quicksum(x[i,a]\n",
    "                            for a in range(AGENTS)) == 1\n",
    "                  for i in client_pos),\n",
    "                  name=\"ServeAll\")\n",
    "\n",
    "# All duplicated Offices must be visited from at most an Agent\n",
    "_= mod.addConstrs((quicksum(x[i,a]\n",
    "                            for a in range(AGENTS)) <= 1\n",
    "                  for i in destination_office_pos),\n",
    "                  name=\"ServeDuplicatesOffice\")\n",
    "\n",
    "# All Agents must have fitticiuous position in their trip\n",
    "_= mod.addConstrs((x[start_pos,a] == 1\n",
    "                   for a in range(AGENTS)),\n",
    "                  name=\"HasFitticious\")\n",
    "\n",
    "# All Agents start their trip from fitticious position\n",
    "_= mod.addConstrs((quicksum(y[start_pos,j,a] \n",
    "                            for j in reachable_pos) == 1\n",
    "                  for a in range(AGENTS)),\n",
    "                  name=\"StartFromFitticious\")\n",
    "\n",
    "# Agents can't start their trip from fitticious position and go to only destination Office\n",
    "_= mod.addConstrs((y[start_pos,j,a] == 0\n",
    "                  for j in destination_office_pos\n",
    "                  for a in range(AGENTS)),\n",
    "                  name=\"NotStartFromFitticiousToOffice\")\n",
    "                  \n",
    "# All Agents end their trip in fitticious position \n",
    "_= mod.addConstrs((quicksum(y[i,start_pos,a] \n",
    "                            for i in reachable_pos) == 1\n",
    "                  for a in range(AGENTS)),\n",
    "                  name=\"EndInFitticious\")\n",
    "                  \n",
    "# Agent visit Client once and only if he serve him\n",
    "_= mod.addConstrs((quicksum(y[i,j,a]\n",
    "                            for i in all_pos if i != j\n",
    "                           ) <= x[j,a] \n",
    "                  for a in range(AGENTS)\n",
    "                  for j in reachable_pos),\n",
    "                  name=\"ServeOnce\")\n",
    "\n",
    "_= mod.addConstrs((quicksum(y[i,h,a] for i in all_pos) - \n",
    "                   quicksum(y[h,j,a] for j in all_pos) == 0\n",
    "                  for h in all_pos\n",
    "                  for a in range(AGENTS)),\n",
    "                  name=\"ContinuousLoops\")\n",
    "\n",
    "# Agent can't do loop between same Client\n",
    "_= mod.addConstrs((y[i,i,a] == 0\n",
    "                  for a in range(AGENTS)\n",
    "                  for i in all_pos),\n",
    "                  name=\"NoSelfLoops\")\n",
    "\n",
    "# Sum of time spent into a position in a specific trip\n",
    "_= mod.addConstrs((quicksum(c[i,j,a]*y[i,j,a] for i in all_pos) == x[j,a] * data_dict[j]['SERVICE']\n",
    "                  for j in client_pos\n",
    "                  for a in range(AGENTS)),\n",
    "                  name=\"ServingTime\"\n",
    "                 )\n",
    "\n",
    "# Sum of time spent into a office in a specific trip\n",
    "_= mod.addConstrs((quicksum(c[i,j,a]*y[i,j,a] \n",
    "                          for i in all_pos\n",
    "                          for j in office_pos) == data_dict[0]['SERVICE']\n",
    "                  for a in range(AGENTS)),\n",
    "                  name=\"ServingTimeOffice\"\n",
    "                 )\n",
    "\n",
    "# Can spent time in a position only if it's in the trip\n",
    "_= mod.addConstrs((c[i,j,a] <= y[i,j,a] * data_dict[j if j in no_duplicates_pos else 0]['SERVICE'] \n",
    "                   for i in reachable_pos\n",
    "                   for j in reachable_pos\n",
    "                   for a in range(AGENTS)),\n",
    "                  name=\"ServingOnlyIfInTrip\"\n",
    "                 )\n",
    "\n",
    "# Serving order for each Agent served Client is calculated as \n",
    "# (is actual Client served) + (serving order of Client before him)\n",
    "_= mod.addConstrs((o[i,a] == x[i,a]+quicksum(o[j,a]*y[j,i,a] for j in reachable_pos if i!=j) \n",
    "                  for a in range(AGENTS)\n",
    "                  for i in reachable_pos),\n",
    "                  name=\"ServeOrder\")\n",
    "\n",
    "# Serving order check is calculated as:\n",
    "# (sum of all serving values) must be equal to (served Clients)*(served Clients + 1) / 2\n",
    "_= mod.addConstrs((quicksum(o[i,a] for i in reachable_pos) == quicksum(x[i,a] \n",
    "                                                            for i in reachable_pos)*\n",
    "                                                            (quicksum(x[i,a] for i in reachable_pos)+1)/2\n",
    "                  for a in range(AGENTS)),\n",
    "                  name=\"CheckServeOrder\")\n",
    "\n",
    "# Sum of minutes spent in: travels, servicing clients, waiting, eating at lunch \n",
    "_= mod.addConstrs((quicksum(y[i,j,a] * distance_matrix[i if i in no_duplicates_pos else 0][j if j in no_duplicates_pos else 0]\n",
    "                           for i in reachable_pos\n",
    "                           for j in reachable_pos) +\n",
    "                   quicksum(x[i,a] * data_dict[i if i in no_duplicates_pos else 0]['SERVICE']\n",
    "                           for i in reachable_pos) +\n",
    "                   quicksum(w[i,a]\n",
    "                           for i in reachable_pos) +\n",
    "                   WORKING_TIME_RANGE[0] + \n",
    "                   quicksum(l[i,j,a]\n",
    "                            for i in reachable_pos\n",
    "                            for j in reachable_pos) * LUNCH_BREAK_TIME <= WORKING_TIME_RANGE[1]\n",
    "                   for a in range(AGENTS)),\n",
    "                  name=\"MaxHours\")"
   ]
  },
  {
   "cell_type": "code",
   "execution_count": 14,
   "metadata": {},
   "outputs": [],
   "source": [
    "# Agent must go office at least once or start from it [0]\n",
    "_= mod.addConstrs((quicksum(x[i,a] for i in office_pos) >= 1 \n",
    "                            for a in range(AGENTS)),\n",
    "                  name=\"ServeOffice\")\n",
    "\n",
    "# Agent can't go office from office\n",
    "_= mod.addConstrs((y[i,j,a] == 0  \n",
    "                            for i in office_pos\n",
    "                            for j in office_pos\n",
    "                            for a in range(AGENTS)),\n",
    "                  name=\"NoOfficeFromOfficeB\")\n",
    "\n",
    "# That is an only start Office position\n",
    "_= mod.addConstrs((y[i,0,a] == 0  \n",
    "                            for i in client_pos\n",
    "                            for a in range(AGENTS)),\n",
    "                  name=\"NoOfficeFromOfficeC\")\n",
    "\n",
    "# Agent can go to Office only if he visited the associated Client \n",
    "_= mod.addConstrs((x[i+CLIENTS,a] <= x[i,a]\n",
    "                   for i in client_pos\n",
    "                   for a in range(AGENTS)),\n",
    "                  name=\"OfficeServedOnlyIfItsClientIs\")\n",
    "\n",
    "# Agent can go to Office just after he visit the associated Client [PROBLEMA]\n",
    "_= mod.addConstrs((x[i+CLIENTS,a] <= y[i,i+CLIENTS,a]\n",
    "                            for i in client_pos\n",
    "                  for a in range(AGENTS)),\n",
    "                  name=\"GoOfficeAfterItsClient\")"
   ]
  },
  {
   "cell_type": "code",
   "execution_count": 15,
   "metadata": {
    "scrolled": true
   },
   "outputs": [],
   "source": [
    "# Service time of Client J is equal to sum of:\n",
    "# wait_time_of_client_J, service_time_of_client_I_before_of_J, trip_between_I_and_J, \n",
    "# time_of_service_of_client_I, lunch_time_if_present\n",
    "_= mod.addConstrs((s[j,a] == quicksum(y[i,j,a]*s[i,a] + \n",
    "                                      y[i,j,a]*distance_matrix[i if i in no_duplicates_pos else 0][j if j in no_duplicates_pos else 0] +\n",
    "                                      y[i,j,a]*l[i,j,a]*LUNCH_BREAK_TIME\n",
    "                                      for i in reachable_pos if i!=j) +\n",
    "                   x[j,a]*w[j,a]+\n",
    "                   quicksum(y[i,j,a]*c[h,i,a] \n",
    "                            for i in reachable_pos if i!=j\n",
    "                            for h in reachable_pos if h!=i)\n",
    "                    for a in range(AGENTS)\n",
    "                    for j in reachable_pos), \n",
    "                  name=\"RouteInTime\")\n",
    "\n",
    "# _= mod.addConstrs((y[i,j,a] <= c[i,j,a] for i in all_pos for j in reachable_pos for a in range(AGENTS)),\n",
    "#                  name=\"GoOnlyIfNeeded\")\n",
    "\n",
    "# Agent serve Client after his time window start\n",
    "_= mod.addConstrs((data_dict[i]['READYTIME']*x[i,a] <= s[i,a]\n",
    "                   for i in client_pos\n",
    "                   for a in range(AGENTS)),\n",
    "                  name=\"ServeAfterTWStart\")\n",
    "\n",
    "# Agent serve Client before his time window end\n",
    "_= mod.addConstrs((data_dict[i]['DUEDATE']*x[i,a] >= s[i,a]\n",
    "                   for i in client_pos\n",
    "                   for a in range(AGENTS)),\n",
    "                  name=\"ServeBeforeTWEnd\")\n",
    "\n",
    "# If Agent have lunch between Clients I and J, agent have to make trip between I and J  \n",
    "_= mod.addConstrs((l[i,j,a] <= y[i,j,a]\n",
    "                   for i in reachable_pos\n",
    "                   for j in reachable_pos\n",
    "                   for a in range(AGENTS)),\n",
    "                  name=\"LunchTime\")\n",
    "\n",
    "# If Agent has lunch it must be after lunch time start\n",
    "_= mod.addConstrs((l[i,j,a]*(s[i,a] + \n",
    "                             c[i,j,a] + \n",
    "                             distance_matrix[i if i in no_duplicates_pos else 0][j if j in no_duplicates_pos else 0] + \n",
    "                             w[j,a]) >= l[i,j,a]*LUNCH_BREAK_RANGE[0] \n",
    "                   for i in reachable_pos\n",
    "                   for j in reachable_pos\n",
    "                   for a in range(AGENTS)),\n",
    "                  name=\"LunchTimeStart\")\n",
    "\n",
    "# If Agent has lunch it must be before lunch time end\n",
    "_= mod.addConstrs((l[i,j,a]*(s[i,a] + \n",
    "                             c[i,j,a] +\n",
    "                             distance_matrix[i if i in no_duplicates_pos else 0][j if j in no_duplicates_pos else 0] +\n",
    "                             w[j,a]) <= l[i,j,a]*LUNCH_BREAK_RANGE[1] \n",
    "                   for i in reachable_pos\n",
    "                   for j in reachable_pos\n",
    "                   for a in range(AGENTS)),\n",
    "                  name=\"LunchTimeEnd\")\n",
    "\n",
    "# Getting maximum Agent service time\n",
    "_= mod.addConstrs((t[a] == max_(s[i,a] for i in reachable_pos) \n",
    "                   for a in range(AGENTS)),\n",
    "                  name=\"MaxServiceTime\")\n",
    "\n",
    "# If Agent working time is greater than lunch time than Agent must have lunch\n",
    "_= mod.addConstrs((WORKING_TIME_RANGE[1] * (quicksum(l[i,j,a]\n",
    "                                             for i in reachable_pos\n",
    "                                             for j in reachable_pos)) >= t[a] - LUNCH_BREAK_RANGE[0]\n",
    "                   for a in range(AGENTS)),\n",
    "                  name=\"AgentNeedLunchI\")\n",
    "\n",
    "# If Agent working time is lesser than lunch time than Agent must not have lunch\n",
    "_= mod.addConstrs((WORKING_TIME_RANGE[1] * (1 - quicksum(l[i,j,a]\n",
    "                                             for i in reachable_pos\n",
    "                                             for j in reachable_pos)) >= LUNCH_BREAK_RANGE[0] - t[a]\n",
    "                   for a in range(AGENTS)),\n",
    "                  name=\"AgentNeedLunchII\")"
   ]
  },
  {
   "cell_type": "code",
   "execution_count": 16,
   "metadata": {},
   "outputs": [],
   "source": [
    "mod.setObjective(quicksum(y[i,j,a]*distance_matrix[i if i in no_duplicates_pos else 0][j if j in no_duplicates_pos else 0]\n",
    "                  for i in all_pos\n",
    "                  for j in all_pos\n",
    "                  for a in range(AGENTS)) + \n",
    "                 quicksum(w[i,a]\n",
    "                  for i in reachable_pos\n",
    "                  for a in range(AGENTS)), \n",
    "                 GRB.MINIMIZE)"
   ]
  },
  {
   "cell_type": "code",
   "execution_count": null,
   "metadata": {
    "scrolled": false
   },
   "outputs": [
    {
     "name": "stdout",
     "output_type": "stream",
     "text": [
      "Parameter Method unchanged\n",
      "   Value: 0  Min: -1  Max: 5  Default: -1\n",
      "Parameter TimeLimit unchanged\n",
      "   Value: 2000.0  Min: 0.0  Max: inf  Default: inf\n",
      "Gurobi Optimizer version 9.0.3 build v9.0.3rc0 (win64)\n",
      "Optimize a model with 57318 rows, 77010 columns and 270950 nonzeros\n",
      "Model fingerprint: 0x55aa8be2\n",
      "Model has 49260 quadratic constraints\n",
      "Model has 10 general constraints\n",
      "Variable types: 0 continuous, 77010 integer (25500 binary)\n",
      "Coefficient statistics:\n",
      "  Matrix range     [1e+00, 3e+04]\n",
      "  QMatrix range    [5e-01, 2e+03]\n",
      "  QLMatrix range   [5e-01, 2e+04]\n",
      "  Objective range  [1e+00, 1e+02]\n",
      "  Bounds range     [1e+00, 1e+00]\n",
      "  RHS range        [1e+00, 3e+04]\n",
      "  QRHS range       [4e+03, 4e+03]\n",
      "Presolved: 1145108 rows, 404230 columns, 3127810 nonzeros\n",
      "Presolved model has 990 SOS constraint(s)\n",
      "\n",
      "Continuing optimization...\n",
      "\n"
     ]
    }
   ],
   "source": [
    "mod.params.Method=0\n",
    "mod.params.TimeLimit=2000\n",
    "#mod.params.SolutionLimit=2\n",
    "mod.optimize()"
   ]
  },
  {
   "cell_type": "code",
   "execution_count": 18,
   "metadata": {},
   "outputs": [],
   "source": [
    "#mod.computeIIS()"
   ]
  },
  {
   "cell_type": "code",
   "execution_count": 19,
   "metadata": {},
   "outputs": [
    {
     "ename": "AttributeError",
     "evalue": "Unable to retrieve attribute 'X'",
     "output_type": "error",
     "traceback": [
      "\u001b[1;31m---------------------------------------------------------------------------\u001b[0m",
      "\u001b[1;31mAttributeError\u001b[0m                            Traceback (most recent call last)",
      "\u001b[1;32m<ipython-input-19-b08103c17c3d>\u001b[0m in \u001b[0;36m<module>\u001b[1;34m\u001b[0m\n\u001b[0;32m     34\u001b[0m     \u001b[1;32mfor\u001b[0m \u001b[0mi\u001b[0m \u001b[1;32min\u001b[0m \u001b[0mall_pos\u001b[0m\u001b[1;33m:\u001b[0m\u001b[1;33m\u001b[0m\u001b[1;33m\u001b[0m\u001b[0m\n\u001b[0;32m     35\u001b[0m         \u001b[1;32mfor\u001b[0m \u001b[0mj\u001b[0m \u001b[1;32min\u001b[0m \u001b[0mall_pos\u001b[0m\u001b[1;33m:\u001b[0m\u001b[1;33m\u001b[0m\u001b[1;33m\u001b[0m\u001b[0m\n\u001b[1;32m---> 36\u001b[1;33m             \u001b[1;32mif\u001b[0m \u001b[0my\u001b[0m\u001b[1;33m[\u001b[0m\u001b[0mi\u001b[0m\u001b[1;33m,\u001b[0m\u001b[0mj\u001b[0m\u001b[1;33m,\u001b[0m\u001b[0ma\u001b[0m\u001b[1;33m]\u001b[0m\u001b[1;33m.\u001b[0m\u001b[0mX\u001b[0m\u001b[1;33m:\u001b[0m\u001b[1;33m\u001b[0m\u001b[1;33m\u001b[0m\u001b[0m\n\u001b[0m\u001b[0;32m     37\u001b[0m                 agent_trip.append((i if i != start_pos else 'START',j if j != start_pos else 'END', \n\u001b[0;32m     38\u001b[0m                                    \u001b[0ms\u001b[0m\u001b[1;33m[\u001b[0m\u001b[0mj\u001b[0m\u001b[1;33m,\u001b[0m\u001b[0ma\u001b[0m\u001b[1;33m]\u001b[0m\u001b[1;33m.\u001b[0m\u001b[0mX\u001b[0m\u001b[1;33m,\u001b[0m\u001b[1;33m\u001b[0m\u001b[1;33m\u001b[0m\u001b[0m\n",
      "\u001b[1;32mvar.pxi\u001b[0m in \u001b[0;36mgurobipy.Var.__getattr__\u001b[1;34m()\u001b[0m\n",
      "\u001b[1;32mvar.pxi\u001b[0m in \u001b[0;36mgurobipy.Var.getAttr\u001b[1;34m()\u001b[0m\n",
      "\u001b[1;32mattrutil.pxi\u001b[0m in \u001b[0;36mgurobipy.__getattr\u001b[1;34m()\u001b[0m\n",
      "\u001b[1;31mAttributeError\u001b[0m: Unable to retrieve attribute 'X'"
     ]
    }
   ],
   "source": [
    "from copy import deepcopy\n",
    "def domino(otrip):\n",
    "    trip = deepcopy(otrip)\n",
    "    sorted_trip = list()\n",
    "    while len(trip):\n",
    "        old = deepcopy(trip)\n",
    "        # Find start\n",
    "        for x in trip:\n",
    "            not_start = False\n",
    "            for y in trip:\n",
    "                if x[0] == y[1]:\n",
    "                    not_start = True\n",
    "                    break\n",
    "            if not not_start:\n",
    "                sorted_trip.append(trip.pop(trip.index(x)))\n",
    "                break\n",
    "        # Continue dominos trip\n",
    "        next_found = True\n",
    "        while next_found:\n",
    "            next_found = False\n",
    "            for x in trip:\n",
    "                if sorted_trip[-1][1] == x[0]:\n",
    "                    sorted_trip.append(trip.pop(trip.index(x)))\n",
    "                    next_found = True\n",
    "                    break\n",
    "                    \n",
    "        if trip == old:\n",
    "            for t in trip:\n",
    "                sorted_trip.append(trip.pop(trip.index(x)))\n",
    "    return sorted_trip\n",
    "\n",
    "for a in range(AGENTS):\n",
    "    agent_trip = list()\n",
    "    for i in all_pos:\n",
    "        for j in all_pos:\n",
    "            if y[i,j,a].X:\n",
    "                agent_trip.append((i if i != start_pos else 'START',j if j != start_pos else 'END', \n",
    "                                   s[j,a].X, \n",
    "                                   c[i,j,a].X,\n",
    "                                   s[j,a].X+c[i,j,a].X))\n",
    "                \n",
    "    # Find start\n",
    "    print(f\"Agent {a}: {agent_trip}\")\n",
    "\n",
    "# PERCORSI DI VISITA"
   ]
  },
  {
   "cell_type": "code",
   "execution_count": null,
   "metadata": {},
   "outputs": [],
   "source": [
    "# ORDINE DI VISITA (ordine di visita, cliente visitato)\n",
    "for a in range(AGENTS):\n",
    "    agent_clients = list()\n",
    "    for i in all_pos:\n",
    "        if o[i,a].X:\n",
    "            agent_clients.append((o[i,a].X, i))\n",
    "    # Find start\n",
    "    print(f\"Agent {a}: {sorted(agent_clients, key=lambda tup: tup[0])}\")"
   ]
  },
  {
   "cell_type": "code",
   "execution_count": null,
   "metadata": {},
   "outputs": [],
   "source": [
    "# MAX TEMPO VISITA\n",
    "for a in range(AGENTS):\n",
    "    # Find start\n",
    "    print(f\"Agent {a}: {t[a].X}\")"
   ]
  },
  {
   "cell_type": "code",
   "execution_count": null,
   "metadata": {
    "scrolled": true
   },
   "outputs": [],
   "source": [
    "# CHE CLIENTI VISITA OGNI AGENTE\n",
    "for a in range(AGENTS):\n",
    "    agent_clients = list()\n",
    "    for i in all_pos:\n",
    "        if x[i,a].X:\n",
    "            agent_clients.append(i)\n",
    "    # Find start\n",
    "    print(f\"Agent {a}: {agent_clients}\")"
   ]
  },
  {
   "cell_type": "code",
   "execution_count": null,
   "metadata": {},
   "outputs": [],
   "source": [
    "# ATTESE DI VISITA E TEMPI DI VISITA\n",
    "for a in range(AGENTS):\n",
    "    agent_clients = list()\n",
    "    for i in all_pos:\n",
    "        if w[i,a].X:\n",
    "            agent_clients.append((i, w[i,a].X, s[i,a].X, data_dict[i if i in no_duplicates_pos else 0][\"READYTIME\"]))\n",
    "    # Find start\n",
    "    print(f\"Agent {a}: {agent_clients}\")"
   ]
  },
  {
   "cell_type": "code",
   "execution_count": null,
   "metadata": {},
   "outputs": [],
   "source": [
    "# ATTESE DI VISITA E TEMPI DI VISITA\n",
    "for a in range(AGENTS):\n",
    "    agent_clients = list()\n",
    "    if t[a].X:\n",
    "        # Find start\n",
    "        print(f\"Agent {a} have lunch.({sum([l[i,j,a].X for i in all_pos for j in all_pos])})\")"
   ]
  },
  {
   "cell_type": "code",
   "execution_count": null,
   "metadata": {},
   "outputs": [],
   "source": []
  },
  {
   "cell_type": "code",
   "execution_count": null,
   "metadata": {},
   "outputs": [],
   "source": [
    "LUNCH_BREAK_RANGE[0]"
   ]
  },
  {
   "cell_type": "code",
   "execution_count": null,
   "metadata": {
    "scrolled": true
   },
   "outputs": [],
   "source": [
    "for a in range(AGENTS):\n",
    "    print(\"AGENT \",a)\n",
    "    for i in all_pos:\n",
    "        for j in all_pos:\n",
    "            if y[i,j,a].X:\n",
    "                print(\"___________________\")\n",
    "                print(data_dict[i if i in no_duplicates_pos else 0]['SERVICE']+distance_matrix[i if i in no_duplicates_pos else 0][j if j in no_duplicates_pos else 0])\n",
    "                print(s[i,a].X+data_dict[i if i in no_duplicates_pos else 0]['SERVICE']+distance_matrix[i if i in no_duplicates_pos else 0][j if j in no_duplicates_pos else 0]+w[j,a].X)"
   ]
  },
  {
   "cell_type": "code",
   "execution_count": null,
   "metadata": {
    "scrolled": true
   },
   "outputs": [],
   "source": [
    "for a in range(AGENTS):\n",
    "    for i in all_pos:\n",
    "        for j in all_pos:\n",
    "            if y[i,j,a].X:\n",
    "                print(\"------\")\n",
    "                print(s[i,a].X)\n",
    "                print(s[j,a].X)"
   ]
  },
  {
   "cell_type": "raw",
   "metadata": {},
   "source": [
    "plot_model(agent_serve_customer, positions)"
   ]
  },
  {
   "cell_type": "markdown",
   "metadata": {},
   "source": [
    "### Define function to plot the graph"
   ]
  },
  {
   "cell_type": "code",
   "execution_count": null,
   "metadata": {},
   "outputs": [],
   "source": [
    "def plot_model(model, positions):\n",
    "    \"\"\"This function is used to plot graph\"\"\"\n",
    "    # Create figure\n",
    "    plt.figure(figsize=(16,9))\n",
    "    G = nx.Graph()\n",
    "    # Add nodes to graph\n",
    "    G.add_nodes_from(positions.keys())\n",
    "    \n",
    "    # Set labels dict\n",
    "    node_labels = dict()\n",
    "    # Set nodes positions\n",
    "    for n, p in positions.items():\n",
    "        G.nodes[n]['pos'] = p\n",
    "        node_labels[n] = n\n",
    "\n",
    "    # Define edges colors\n",
    "    edge_colors = [plt.cm.tab20.colors[i] for i in model.keys()]\n",
    "    # Add edges\n",
    "    for t, l in model.items():\n",
    "        for i in range(1,len(l['trip'])):\n",
    "            G.add_edge(l['trip'][i-1], l['trip'][i], \n",
    "                       color=edge_colors[t], \n",
    "                       alpha=0.5, \n",
    "                       weight=4)\n",
    "    # Set edges parameters \n",
    "    edges = G.edges()\n",
    "    colors = [G[u][v]['color'] for u,v in edges]\n",
    "    weights = [G[u][v]['weight'] for u,v in edges]\n",
    "    alphas = [G[u][v]['alpha'] for u,v in edges]\n",
    "\n",
    "    # Draw Nodes\n",
    "    nx.draw_networkx_nodes(G, positions,\n",
    "                           node_size=200,\n",
    "                           node_color='c')\n",
    "    # Draw Labels\n",
    "    nx.draw_networkx_labels(G, positions, \n",
    "                            node_labels, \n",
    "                            font_size=10, \n",
    "                            font_color='k')\n",
    "    # Draw Edges \n",
    "    nx.draw_networkx_edges(G, positions, \n",
    "                           alpha=0.5, \n",
    "                           width=weights, \n",
    "                           edge_color=colors)\n",
    "\n",
    "    # Show graph\n",
    "    plt.show()\n",
    "\n",
    "# Create model\n",
    "mod = Model(\"TSPTW\")     "
   ]
  }
 ],
 "metadata": {
  "kernelspec": {
   "display_name": "Python 3",
   "language": "python",
   "name": "python3"
  },
  "language_info": {
   "codemirror_mode": {
    "name": "ipython",
    "version": 3
   },
   "file_extension": ".py",
   "mimetype": "text/x-python",
   "name": "python",
   "nbconvert_exporter": "python",
   "pygments_lexer": "ipython3",
   "version": "3.7.1rc1"
  }
 },
 "nbformat": 4,
 "nbformat_minor": 2
}

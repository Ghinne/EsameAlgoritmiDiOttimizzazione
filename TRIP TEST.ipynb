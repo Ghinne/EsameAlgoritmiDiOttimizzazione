{
 "cells": [
  {
   "cell_type": "code",
   "execution_count": null,
   "metadata": {},
   "outputs": [],
   "source": []
  },
  {
   "cell_type": "code",
   "execution_count": 1,
   "metadata": {},
   "outputs": [],
   "source": [
    "# Import libraries\n",
    "from gurobipy import*\n",
    "\n",
    "import math\n",
    "import matplotlib.pyplot as plt\n",
    "import networkx as nx\n",
    "import numpy as np"
   ]
  },
  {
   "cell_type": "code",
   "execution_count": 2,
   "metadata": {},
   "outputs": [],
   "source": [
    "# File path \n",
    "FILE = \"./DaSilvaUrrutia/n200w100.001.txt\""
   ]
  },
  {
   "cell_type": "code",
   "execution_count": 3,
   "metadata": {},
   "outputs": [],
   "source": [
    "# Default params\n",
    "SUPPORTED_FORMAT = ['NUM', 'X', 'Y', 'DEMAND', 'READYTIME', 'DUEDATE', 'SERVICE']\n",
    "MINUTES = 60\n",
    "HOURS = 3600\n",
    "OFFSET_TIMES = 8*HOURS\n",
    "\n",
    "COLUMNS_OPS = {'NUM': lambda x: float(x),\n",
    "               'X': lambda x: float(x),\n",
    "               'Y': lambda x: float(x),\n",
    "               'DEMAND': lambda x: 1,\n",
    "               #'READYTIME': lambda x: float(x)+OFFSET_TIMES,\n",
    "               'READYTIME': lambda x: float(x),\n",
    "               #'DUEDATE': lambda x: float(x)+OFFSET_TIMES,\n",
    "               'DUEDATE': lambda x: float(x),\n",
    "\n",
    "               'SERVICE': lambda x: 30*MINUTES\n",
    "              }\n",
    "\n",
    "AGENTS = 10\n",
    "\n",
    "TIME_PER_DISTANCE = 1\n",
    "\n",
    "#WORKING_TIME_RANGE = (OFFSET_TIMES, OFFSET_TIMES + 8*HOURS)\n",
    "WORKING_TIME_RANGE = (0, 8*HOURS)\n",
    "\n",
    "#LUNCH_BREAK_RANGE = (12*HOURS, 13.5*HOURS)\n",
    "LUNCH_BREAK_RANGE = (12*HOURS-OFFSET_TIMES, 13.5*HOURS-OFFSET_TIMES)\n",
    "LUNCH_BREAK_TIME = 30*MINUTES\n",
    "\n",
    "OFFICE_NUM = 0\n",
    "OFFICE_X = .0\n",
    "OFFICE_Y = .0\n",
    "OFFICE_READYTIME = WORKING_TIME_RANGE[0]\n",
    "OFFICE_DUEDATE = WORKING_TIME_RANGE[1]\n",
    "OFFICE_SERVICE = 1*HOURS"
   ]
  },
  {
   "cell_type": "code",
   "execution_count": 4,
   "metadata": {},
   "outputs": [
    {
     "data": {
      "text/plain": [
       "(14400, 19800.0)"
      ]
     },
     "execution_count": 4,
     "metadata": {},
     "output_type": "execute_result"
    }
   ],
   "source": [
    "LUNCH_BREAK_RANGE"
   ]
  },
  {
   "cell_type": "code",
   "execution_count": 5,
   "metadata": {},
   "outputs": [
    {
     "data": {
      "text/plain": [
       "(0, 28800)"
      ]
     },
     "execution_count": 5,
     "metadata": {},
     "output_type": "execute_result"
    }
   ],
   "source": [
    "WORKING_TIME_RANGE"
   ]
  },
  {
   "cell_type": "code",
   "execution_count": 6,
   "metadata": {},
   "outputs": [],
   "source": [
    "def read_input_tsptw(filename):\n",
    "    \"\"\"This function is used to convert input file to usable data\"\"\"\n",
    "    nb_nodes = 0\n",
    "    \n",
    "    data_dict = dict()\n",
    "    \n",
    "    nodes_x = list()\n",
    "    nodes_y = list()\n",
    "       \n",
    "    # Open file and read lines \n",
    "    with open(filename, \"r\") as file:\n",
    "        # Initialize columns in empty dict\n",
    "        columns = file.readline().replace(\"#\",\"\").split()\n",
    "        if columns != SUPPORTED_FORMAT:\n",
    "            print(\"ERROR! Format not supported.\")\n",
    "            return \n",
    "        \n",
    "        # Add office to data\n",
    "        data_dict.update({OFFICE_NUM: {'X': OFFICE_X, \n",
    "                                       'Y': OFFICE_Y, \n",
    "                                       'DEMAND': AGENTS,\n",
    "                                       'READYTIME': OFFICE_READYTIME,\n",
    "                                       'DUEDATE': OFFICE_DUEDATE,\n",
    "                                       'SERVICE': OFFICE_SERVICE,}})\n",
    "        # Add office to nodes\n",
    "        nodes_x.append(OFFICE_X)\n",
    "        nodes_y.append(OFFICE_Y)\n",
    "            \n",
    "        # For each data line\n",
    "        for line in file.readlines():\n",
    "            node_dict = {k: COLUMNS_OPS[k](val) for k, val in zip(columns, line.split())}\n",
    "                \n",
    "            # Get id\n",
    "            node_id = node_dict.pop('NUM')\n",
    "            # Insert new node in data dict\n",
    "            data_dict.update({int(node_id): node_dict})            \n",
    "            # Get nodes positions\n",
    "            nodes_x.append(float(line.split()[columns.index('X')]))\n",
    "            nodes_y.append(float(line.split()[columns.index('Y')]))\n",
    "\n",
    "    # Get distance matrix\n",
    "    distance_matrix = compute_distance_matrix(nodes_x, nodes_y)\n",
    "    \n",
    "    return (data_dict, distance_matrix, dict(enumerate(zip(nodes_x, nodes_y))))\n",
    "\n",
    "\n",
    "def compute_distance_matrix(nodes_x, nodes_y):\n",
    "    \"\"\"This function is used to compute the distance matrix\"\"\"\n",
    "    nb_customers = len(nodes_x)\n",
    "    distance_matrix = [[None for i in range(nb_customers)] for j in range(nb_customers)]\n",
    "    for i in range(nb_customers):\n",
    "        distance_matrix[i][i] = 0\n",
    "        for j in range(nb_customers):\n",
    "            dist = compute_dist(nodes_x[i], nodes_x[j], nodes_y[i], nodes_y[j])\n",
    "            distance_matrix[i][j] = dist\n",
    "            distance_matrix[j][i] = dist\n",
    "    return distance_matrix\n",
    "\n",
    "\n",
    "def compute_dist(xi, xj, yi, yj):\n",
    "    \"\"\"This function is used to compute euclidean distance\"\"\"\n",
    "    exact_dist = math.sqrt(math.pow(xi - xj, 2) + math.pow(yi - yj, 2))\n",
    "    return int(math.floor(exact_dist + 0.5)) * TIME_PER_DISTANCE"
   ]
  },
  {
   "cell_type": "code",
   "execution_count": 7,
   "metadata": {},
   "outputs": [],
   "source": [
    "# Getting parameters\n",
    "data_dict, distance_matrix, positions = read_input_tsptw(FILE)"
   ]
  },
  {
   "cell_type": "code",
   "execution_count": 8,
   "metadata": {},
   "outputs": [],
   "source": [
    "# DEBUG RESTRICTIONS\n",
    "C = 20\n",
    "data_dict = {k: v for k,v in data_dict.items() if k < C}\n",
    "distance_matrix = distance_matrix[:C][:C]\n"
   ]
  },
  {
   "cell_type": "code",
   "execution_count": 9,
   "metadata": {},
   "outputs": [
    {
     "name": "stdout",
     "output_type": "stream",
     "text": [
      "\n",
      "--------------------------------------------\n",
      "Warning: your license will expire in 7 days\n",
      "--------------------------------------------\n",
      "\n",
      "Using license file c:\\gurobi903\\gurobi.lic\n",
      "Academic license - for non-commercial use only\n"
     ]
    }
   ],
   "source": [
    "# Create model\n",
    "mod = Model(\"TSPTW\")    "
   ]
  },
  {
   "cell_type": "code",
   "execution_count": 10,
   "metadata": {},
   "outputs": [],
   "source": [
    "pos = list(range(C))"
   ]
  },
  {
   "cell_type": "code",
   "execution_count": 11,
   "metadata": {},
   "outputs": [],
   "source": [
    "# VARIABLES\n",
    "# Served client\n",
    "x = mod.addVars({(i,a): 0 for i in pos\n",
    "                          for a in range(AGENTS)},\n",
    "               name=\"x\",\n",
    "               vtype=GRB.BINARY)\n",
    "\n",
    "#  Agent trip\n",
    "y = mod.addVars({(i,j,a): 0 for i in pos\n",
    "                            for j in pos \n",
    "                            for a in range(AGENTS)}, \n",
    "                name=\"y\", \n",
    "                vtype=GRB.BINARY)\n",
    "\n",
    "# Time spent at Client / Office in specific trip\n",
    "c = mod.addVars({(i,j,a): 0 for i in pos\n",
    "                            for j in pos\n",
    "                            for a in range(AGENTS)}, \n",
    "                name=\"c\", \n",
    "                vtype=GRB.INTEGER)\n",
    "\n",
    "# Serve Order\n",
    "o = mod.addVars({(i,a): 0 for i in pos\n",
    "                          for a in range(AGENTS)},\n",
    "               name=\"o\",\n",
    "               vtype=GRB.INTEGER)\n",
    "\n",
    "# Serve time\n",
    "s =  mod.addVars({(i,a): 0 for i in pos \n",
    "                           for a in range(AGENTS)}, \n",
    "                 name=\"s\", \n",
    "                 vtype=GRB.INTEGER)\n",
    "\n",
    "# Wait time\n",
    "w = mod.addVars({(i,a): 0 for i in pos\n",
    "                          for a in range(AGENTS)}, \n",
    "                name=\"w\", \n",
    "                vtype=GRB.INTEGER)\n",
    "\n",
    "# Lunch done between customers\n",
    "l = mod.addVars({(i,j,a): 0 for i in pos\n",
    "                            for j in pos\n",
    "                            for a in range(AGENTS)}, \n",
    "                name=\"l\", \n",
    "                vtype=GRB.INTEGER)\n",
    "\n",
    "# Is lunch to do\n",
    "t = mod.addVars({(a): 0 for a in range(AGENTS)},\n",
    "               name=\"t\",\n",
    "               vtype=GRB.INTEGER)"
   ]
  },
  {
   "cell_type": "code",
   "execution_count": 12,
   "metadata": {},
   "outputs": [],
   "source": [
    "# CONSTRAINTS\n",
    "\n",
    "# All client must be visited from an Agent\n",
    "_= mod.addConstrs((quicksum(x[i,a]\n",
    "                            for a in range(AGENTS)) == 1\n",
    "                  for i in pos),\n",
    "                  name=\"ServeAll\")\n",
    "\n",
    "# Agent visit Client once and only if he serve him\n",
    "_= mod.addConstrs((quicksum(y[i,j,a]\n",
    "                            for i in pos if i != j\n",
    "                           ) <= x[j,a] \n",
    "                  for a in range(AGENTS)\n",
    "                  for j in pos),\n",
    "                  name=\"ServeOnceA\")\n",
    "\n",
    "# Agent start it's trip from a Client served by him or from the Office\n",
    "_= mod.addConstrs((quicksum(y[i,j,a] \n",
    "                            for j in pos if i != j\n",
    "                           ) <= x[i,a]\n",
    "                  for a in range(AGENTS)\n",
    "                  for i in pos),\n",
    "                  name=\"ServeOnceB\")\n",
    "\n",
    "# _= mod.addConstrs((y[i,j,a]+y[j,i,a] <= 1 \n",
    "#                   for i in pos\n",
    "#                   for j in pos if i!=j\n",
    "#                   for a in range(AGENTS)),\n",
    "#                   name=\"NoTwoNodesLoops\")\n",
    "\n",
    "# Agent can't do loop between same Client\n",
    "_= mod.addConstrs((y[i,i,a] == 0\n",
    "                  for a in range(AGENTS)\n",
    "                  for i in pos),\n",
    "                  name=\"NoSelfLoops\")\n",
    "\n",
    "# # Sum of time spent into a position in a specific trip\n",
    "# _= mod.addConstrs((quicksum(c[i,j,a]*y[i,j,a] for i in pos) == x[j,a] * data_dict[j]['SERVICE']\n",
    "#                   for j in pos\n",
    "#                   for a in range(AGENTS)),\n",
    "#                   name=\"ServingTime\"\n",
    "#                  )\n",
    "\n",
    "# # Can spent time in a position only if it's in the trip\n",
    "# _= mod.addConstrs((c[i,j,a] <= y[i,j,a] * data_dict[j]['SERVICE'] \n",
    "#                    for i in pos\n",
    "#                    for j in pos\n",
    "#                    for a in range(AGENTS)),\n",
    "#                   name=\"ServingOnlyIfInTrip\"\n",
    "#                  )\n",
    "\n",
    "# _= mod.addConstrs((quicksum(y[i,j,a]+y[j,i,a]\n",
    "#                             for i in pos if i != j\n",
    "#                            ) <= 2*x[j,a] \n",
    "#                   for a in range(AGENTS)\n",
    "#                   for j in pos),\n",
    "#                   name=\"GoOnlyToServed\")\n",
    "\n",
    "# _= mod.addConstrs((quicksum(y[i,j,a]+y[j,i,a]\n",
    "#                             for i in pos if i != j\n",
    "#                            ) >= x[j,a] \n",
    "#                   for a in range(AGENTS)\n",
    "#                   for j in pos),\n",
    "#                   name=\"ServeOnce\")\n",
    "\n",
    "# _= mod.addConstrs((quicksum(y[i,j,a] \n",
    "#                             for i in pos\n",
    "#                             for j in pos\n",
    "#                            ) == \n",
    "#                    quicksum(x[i,a] for i in pos)-1\n",
    "#                    for a in range(AGENTS)),\n",
    "#                   name=\"EdgeCount\")\n",
    "\n",
    "# _= mod.addConstrs((quicksum([quicksum(y[i,h,a] for i in pos) * quicksum(y[h,j,a] for j in pos) \n",
    "#                        for h in pos]) ==\n",
    "#                    quicksum(x[i,a] for i in pos)-2\n",
    "#                    for a in range(AGENTS)),\n",
    "#                   name=\"EachClientHasOneBefore\")\n",
    "\n",
    "# _= mod.addConstrs((quicksum([(1-quicksum(y[i,h,a] for i in pos)) * quicksum(y[h,j,a] for j in pos) \n",
    "#                        for h in pos]) == 1\n",
    "#                    for a in range(AGENTS)),\n",
    "#                   name=\"OneStart\")\n",
    "\n",
    "# _= mod.addConstrs((quicksum([quicksum(y[i,h,a] for i in pos) * (1-quicksum(y[h,j,a] for j in pos))\n",
    "#                        for h in pos]) == 1\n",
    "#                    for a in range(AGENTS)),\n",
    "#                   name=\"OneEnd\")\n",
    "\n",
    "# se arco ij è isolato allora 1\n",
    "# il numero di nodi isolati può essere al massimo 2\n",
    "# _= mod.addConstrs(((1-quicksum(y[h,i,a] for h in pos)) +\n",
    "#                    y[i,j,a] +\n",
    "#                    (1-quicksum(y[j,k,a] for k in pos)) \n",
    "                   \n",
    "#                        for i in pos\n",
    "#                        for j in pos\n",
    "#                    for a in range(AGENTS)),\n",
    "#                   name=\"SinglePath\")\n",
    "\n",
    "# Serving order for each Agent served Client is calculated as \n",
    "# (is actual Client served) + (serving order of Client before him)\n",
    "_= mod.addConstrs((o[i,a] == x[i,a]+quicksum(o[j,a]*y[j,i,a] for j in pos if i!=j) \n",
    "                  for a in range(AGENTS)\n",
    "                  for i in pos),\n",
    "                  name=\"ServeOrder\")\n",
    "\n",
    "# Serving order check is calculated as:\n",
    "# (sum of all serving values) must be equal to (served Clients)*(served Clients + 1) / 2\n",
    "_= mod.addConstrs((quicksum(o[i,a] for i in pos) == quicksum(x[i,a] for i in pos)*(quicksum(x[i,a] for i in pos)+1)/2\n",
    "                  for a in range(AGENTS)),\n",
    "                  name=\"CheckServeOrder\")\n",
    "\n",
    "# Sum of minutes spent in: travels, servicing clients, waiting, eating at lunch \n",
    "_= mod.addConstrs((quicksum(y[i,j,a] * distance_matrix[i][j]\n",
    "                           for i in pos\n",
    "                           for j in pos) +\n",
    "                   quicksum(x[i,a] * data_dict[i]['SERVICE']\n",
    "                           for i in pos) +\n",
    "                   quicksum(w[i,a]\n",
    "                           for i in pos) +\n",
    "                   WORKING_TIME_RANGE[0] + \n",
    "                   quicksum(l[i,j,a]\n",
    "                            for i in pos\n",
    "                            for j in pos) * LUNCH_BREAK_TIME <= WORKING_TIME_RANGE[1]\n",
    "                   for a in range(AGENTS)),\n",
    "                  name=\"MaxHours\")"
   ]
  },
  {
   "cell_type": "code",
   "execution_count": 13,
   "metadata": {
    "scrolled": true
   },
   "outputs": [],
   "source": [
    "# Service time of Client J is equal to sum of:\n",
    "# wait_time_of_client_J, service_time_of_client_I_before_of_J, trip_between_I_and_J, \n",
    "# time_of_service_of_client_I, lunch_time_if_present\n",
    "_= mod.addConstrs((s[j,a] == quicksum(y[i,j,a]*s[i,a] + \n",
    "                                      y[i,j,a]*distance_matrix[i][j] +\n",
    "                                      y[i,j,a]*data_dict[i]['SERVICE'] +\n",
    "                                      y[i,j,a]*l[i,j,a]*LUNCH_BREAK_TIME\n",
    "                                      for i in pos if i!=j)\n",
    "                                    +x[j,a]*(w[j,a])\n",
    "                    for a in range(AGENTS)\n",
    "                    for j in pos), \n",
    "                  name=\"RouteInTime\")\n",
    "\n",
    "# Agent serve Client after his time window start\n",
    "_= mod.addConstrs((data_dict[i]['READYTIME']*x[i,a] <= s[i,a]\n",
    "                   for i in pos\n",
    "                   for a in range(AGENTS)),\n",
    "                  name=\"ServeAfterTWStart\")\n",
    "\n",
    "# Agent serve Client before his time window end\n",
    "_= mod.addConstrs((data_dict[i]['DUEDATE']*x[i,a] >= s[i,a]\n",
    "                   for i in pos\n",
    "                   for a in range(AGENTS)),\n",
    "                  name=\"ServeBeforeTWEnd\")\n",
    "\n",
    "# If Agent have lunch between Clients I and J, agent have to make trip between I and J  \n",
    "_= mod.addConstrs((l[i,j,a] <= y[i,j,a]\n",
    "                   for i in pos\n",
    "                   for j in pos\n",
    "                   for a in range(AGENTS)),\n",
    "                  name=\"LunchTime\")\n",
    "\n",
    "# If Agent has lunch it must be after lunch time start\n",
    "_= mod.addConstrs((l[i,j,a]*(s[i,a] + \n",
    "                             data_dict[i]['SERVICE'] + \n",
    "                             distance_matrix[i][j] + \n",
    "                             w[j,a]) >= l[i,j,a]*LUNCH_BREAK_RANGE[0] \n",
    "                   for i in pos\n",
    "                   for j in pos\n",
    "                   for a in range(AGENTS)),\n",
    "                  name=\"LunchTimeStart\")\n",
    "\n",
    "# If Agent has lunch it must be before lunch time end\n",
    "_= mod.addConstrs((l[i,j,a]*(s[i,a] + \n",
    "                             data_dict[i]['SERVICE'] +\n",
    "                             distance_matrix[i][j] +\n",
    "                             w[j,a]) <= l[i,j,a]*LUNCH_BREAK_RANGE[1] \n",
    "                   for i in pos\n",
    "                   for j in pos\n",
    "                   for a in range(AGENTS)),\n",
    "                  name=\"LunchTimeEnd\")\n",
    "\n",
    "# Getting maximum Agent service time\n",
    "_= mod.addConstrs((t[a] == max_(s[i,a] for i in pos) \n",
    "                   for a in range(AGENTS)),\n",
    "                  name=\"MaxServiceTime\")\n",
    "\n",
    "# If Agent working time is greater than lunch time than Agent must have lunch\n",
    "_= mod.addConstrs((WORKING_TIME_RANGE[1] * (quicksum(l[i,j,a]\n",
    "                                             for i in pos\n",
    "                                             for j in pos)) >= t[a] - LUNCH_BREAK_RANGE[0]\n",
    "                   for a in range(AGENTS)),\n",
    "                  name=\"AgentNeedLunchI\")\n",
    "\n",
    "# If Agent working time is lesser than lunch time than Agent must not have lunch\n",
    "_= mod.addConstrs((WORKING_TIME_RANGE[1] * (1 - quicksum(l[i,j,a]\n",
    "                                             for i in pos\n",
    "                                             for j in pos)) >= LUNCH_BREAK_RANGE[0] - t[a]\n",
    "                   for a in range(AGENTS)),\n",
    "                  name=\"AgentNeedLunchII\")\n",
    "\n",
    "# \n",
    "# _= mod.addConstrs((w[j,a] == quicksum(y[i,j,a]*\n",
    "#                                       (data_dict[j]['READYTIME'] - \n",
    "#                                        s[i,a] -\n",
    "#                                        distance_matrix[i][j])\n",
    "#                                       for i in pos\n",
    "#                                      )\n",
    "#                    for j in pos\n",
    "#                    for a in range(AGENTS)),\n",
    "#                   name=\"WaitForClient\")"
   ]
  },
  {
   "cell_type": "code",
   "execution_count": 14,
   "metadata": {},
   "outputs": [],
   "source": [
    "mod.setObjective(quicksum(y[i,j,a]*distance_matrix[i][j]\n",
    "                  for i in pos\n",
    "                  for j in pos\n",
    "                  for a in range(AGENTS)) + \n",
    "                 quicksum(w[i,a]\n",
    "                  for i in pos\n",
    "                  for a in range(AGENTS)), \n",
    "                 GRB.MINIMIZE)"
   ]
  },
  {
   "cell_type": "code",
   "execution_count": 15,
   "metadata": {
    "scrolled": false
   },
   "outputs": [
    {
     "name": "stdout",
     "output_type": "stream",
     "text": [
      "Changed value of parameter TimeLimit to 100.0\n",
      "   Prev: inf  Min: 0.0  Max: inf  Default: inf\n",
      "Gurobi Optimizer version 9.0.3 build v9.0.3rc0 (win64)\n",
      "Optimize a model with 5050 rows, 12810 columns and 33400 nonzeros\n",
      "Model fingerprint: 0x9e69d159\n",
      "Model has 8410 quadratic constraints\n",
      "Model has 10 general constraints\n",
      "Variable types: 0 continuous, 12810 integer (4200 binary)\n",
      "Coefficient statistics:\n",
      "  Matrix range     [1e+00, 3e+04]\n",
      "  QMatrix range    [5e-01, 2e+03]\n",
      "  QLMatrix range   [5e-01, 2e+04]\n",
      "  Objective range  [1e+00, 1e+02]\n",
      "  Bounds range     [1e+00, 1e+00]\n",
      "  RHS range        [1e+00, 3e+04]\n",
      "Presolve removed 2210 rows and 7900 columns\n",
      "Presolve time: 0.19s\n",
      "Presolved: 41750 rows, 16510 columns, 120580 nonzeros\n",
      "Presolved model has 200 SOS constraint(s)\n",
      "Variable types: 0 continuous, 16510 integer (9000 binary)\n",
      "\n",
      "Root relaxation: objective 1.084971e+04, 6805 iterations, 0.67 seconds\n",
      "\n",
      "    Nodes    |    Current Node    |     Objective Bounds      |     Work\n",
      " Expl Unexpl |  Obj  Depth IntInf | Incumbent    BestBd   Gap | It/Node Time\n",
      "\n",
      "     0     0 12114.1655    0  600          - 12114.1655      -     -    6s\n",
      "     0     0 12114.1655    0  551          - 12114.1655      -     -    7s\n",
      "     0     0 12114.1655    0  464          - 12114.1655      -     -    7s\n",
      "     0     0 12114.1655    0  296          - 12114.1655      -     -    9s\n",
      "     0     0 12114.1655    0  367          - 12114.1655      -     -   10s\n",
      "     0     0 12120.7574    0  373          - 12120.7574      -     -   11s\n",
      "     0     0 12143.1600    0  575          - 12143.1600      -     -   13s\n",
      "     0     0 12143.2232    0  591          - 12143.2232      -     -   13s\n",
      "     0     0 12143.2232    0  454          - 12143.2232      -     -   13s\n",
      "     0     0 12163.8287    0  470          - 12163.8287      -     -   14s\n",
      "     0     0 12230.6689    0  570          - 12230.6689      -     -   15s\n",
      "     0     0 12230.8444    0  564          - 12230.8444      -     -   15s\n",
      "     0     0 12238.9766    0  522          - 12238.9766      -     -   16s\n",
      "     0     0 12239.6560    0  545          - 12239.6560      -     -   16s\n",
      "     0     0 12292.6442    0  566          - 12292.6442      -     -   17s\n",
      "     0     0 12294.0298    0  528          - 12294.0298      -     -   18s\n",
      "     0     0 12294.6991    0  452          - 12294.6991      -     -   19s\n",
      "     0     0 12294.9105    0  457          - 12294.9105      -     -   19s\n",
      "     0     0 12296.3473    0  495          - 12296.3473      -     -   19s\n",
      "     0     0 12296.4119    0  499          - 12296.4119      -     -   19s\n",
      "     0     0 12297.5809    0  643          - 12297.5809      -     -   20s\n",
      "     0     0 12297.5809    0  535          - 12297.5809      -     -   22s\n",
      "     0     2 12297.6798    0  520          - 12297.6798      -     -   23s\n",
      "     3     7 12300.6088    2  613          - 12299.5689      -  1282   25s\n",
      "    53    60 13755.2255    8  374          - 12302.0027      -   559   30s\n",
      "   246   272 12505.3934   30  396          - 12302.0027      -   337   35s\n",
      "H  254   272                    14432.000000 12302.0027  14.8%   334   35s\n",
      "   511   400     cutoff   74      14432.0000 12302.1603  14.8%   245   40s\n",
      "   629   440 12337.2698   17  486 14432.0000 12302.1603  14.8%   225   46s\n",
      "   672   474 12633.2432   20  392 14432.0000 12302.1603  14.8%   226   56s\n",
      "   951   697 12375.7224   13  393 14432.0000 12307.4804  14.7%   212   60s\n",
      "  1276   875 13347.4267   20 2635 14432.0000 12320.4855  14.6%   217   69s\n",
      "  1278   876 12392.6641   34  426 14432.0000 12320.4855  14.6%   217   72s\n",
      "  1282   879 12676.9498   26  550 14432.0000 12320.4855  14.6%   216   75s\n",
      "  1297   889 14176.8501   24  635 14432.0000 12387.9135  14.2%   214   80s\n",
      "  1318   903 12920.1943   11  543 14432.0000 12422.0232  13.9%   210   85s\n",
      "  1338   916 12492.3511   26  637 14432.0000 12449.2272  13.7%   207   90s\n",
      "  1363   933 14141.8419   59  329 14432.0000 12491.7629  13.4%   203   95s\n",
      "\n",
      "Explored 1381 nodes (387462 simplex iterations) in 100.01 seconds\n",
      "Thread count was 12 (of 12 available processors)\n",
      "\n",
      "Solution count 1: 14432 \n",
      "\n",
      "Time limit reached\n",
      "Best objective 1.443200000000e+04, best bound 1.249500000000e+04, gap 13.4216%\n"
     ]
    }
   ],
   "source": [
    "# mod.params.Method=0\n",
    "mod.params.TimeLimit=100\n",
    "mod.optimize()"
   ]
  },
  {
   "cell_type": "code",
   "execution_count": 16,
   "metadata": {},
   "outputs": [
    {
     "name": "stdout",
     "output_type": "stream",
     "text": [
      "Agent 0: []\n",
      "Agent 1: []\n",
      "Agent 2: []\n",
      "Agent 3: []\n",
      "Agent 4: [(12, 4)]\n",
      "Agent 5: [(1, 3), (11, 17), (17, 1)]\n",
      "Agent 6: []\n",
      "Agent 7: [(0, 8), (16, 0), (18, 16)]\n",
      "Agent 8: []\n",
      "Agent 9: [(6, 14), (15, 19), (19, 6)]\n"
     ]
    }
   ],
   "source": [
    "from copy import deepcopy\n",
    "def domino(otrip):\n",
    "    trip = deepcopy(otrip)\n",
    "    sorted_trip = list()\n",
    "    while len(trip):\n",
    "        old = deepcopy(trip)\n",
    "        # Find start\n",
    "        for x in trip:\n",
    "            not_start = False\n",
    "            for y in trip:\n",
    "                if x[0] == y[1]:\n",
    "                    not_start = True\n",
    "                    break\n",
    "            if not not_start:\n",
    "                sorted_trip.append(trip.pop(trip.index(x)))\n",
    "                break\n",
    "        # Continue dominos trip\n",
    "        next_found = True\n",
    "        while next_found:\n",
    "            next_found = False\n",
    "            for x in trip:\n",
    "                if sorted_trip[-1][1] == x[0]:\n",
    "                    sorted_trip.append(trip.pop(trip.index(x)))\n",
    "                    next_found = True\n",
    "                    break\n",
    "                    \n",
    "        if trip == old:\n",
    "            for t in trip:\n",
    "                sorted_trip.append(trip.pop(trip.index(x)))\n",
    "    return sorted_trip\n",
    "\n",
    "for a in range(AGENTS):\n",
    "    agent_trip = list()\n",
    "    for i in pos:\n",
    "        for j in pos:\n",
    "            if y[i,j,a].X:\n",
    "                agent_trip.append((i,j))\n",
    "                \n",
    "    # Find start\n",
    "    print(f\"Agent {a}: {agent_trip}\")\n",
    "\n",
    "# PERCORSI DI VISITA"
   ]
  },
  {
   "cell_type": "code",
   "execution_count": 17,
   "metadata": {},
   "outputs": [
    {
     "name": "stdout",
     "output_type": "stream",
     "text": [
      "Agent 0: [(1.0, 9)]\n",
      "Agent 1: [(1.0, 7)]\n",
      "Agent 2: [(1.0, 10)]\n",
      "Agent 3: [(1.0, 2)]\n",
      "Agent 4: [(1.0, 12), (2.0, 4)]\n",
      "Agent 5: [(1.0, 11), (2.0, 17), (3.0, 1), (4.0, 3)]\n",
      "Agent 6: [(1.0, 5)]\n",
      "Agent 7: [(1.0, 18), (2.0, 16), (3.0, 0), (4.0, 8)]\n",
      "Agent 8: [(1.0, 13)]\n",
      "Agent 9: [(1.0, 15), (2.0, 19), (3.0, 6), (4.0, 14)]\n"
     ]
    }
   ],
   "source": [
    "# ORDINE DI VISITA (ordine di visita, cliente visitato)\n",
    "for a in range(AGENTS):\n",
    "    agent_clients = list()\n",
    "    for i in pos:\n",
    "        if o[i,a].X:\n",
    "            agent_clients.append((o[i,a].X, i))\n",
    "    # Find start\n",
    "    print(f\"Agent {a}: {sorted(agent_clients, key=lambda tup: tup[0])}\")"
   ]
  },
  {
   "cell_type": "code",
   "execution_count": 18,
   "metadata": {},
   "outputs": [
    {
     "name": "stdout",
     "output_type": "stream",
     "text": [
      "Agent 0: 198.0\n",
      "Agent 1: 100.0\n",
      "Agent 2: 240.0\n",
      "Agent 3: 6.0\n",
      "Agent 4: 4002.0\n",
      "Agent 5: 9046.0\n",
      "Agent 6: 472.0\n",
      "Agent 7: 10077.0\n",
      "Agent 8: 351.0\n",
      "Agent 9: 9740.0\n"
     ]
    }
   ],
   "source": [
    "# MAX TEMPO VISITA\n",
    "for a in range(AGENTS):\n",
    "    # Find start\n",
    "    print(f\"Agent {a}: {t[a].X}\")"
   ]
  },
  {
   "cell_type": "code",
   "execution_count": 19,
   "metadata": {
    "scrolled": true
   },
   "outputs": [
    {
     "name": "stdout",
     "output_type": "stream",
     "text": [
      "Agent 0: [9]\n",
      "Agent 1: [7]\n",
      "Agent 2: [10]\n",
      "Agent 3: [2]\n",
      "Agent 4: [4, 12]\n",
      "Agent 5: [1, 3, 11, 17]\n",
      "Agent 6: [5]\n",
      "Agent 7: [0, 8, 16, 18]\n",
      "Agent 8: [13]\n",
      "Agent 9: [6, 14, 15, 19]\n"
     ]
    }
   ],
   "source": [
    "# CHE CLIENTI VISITA OGNI AGENTE\n",
    "for a in range(AGENTS):\n",
    "    agent_clients = list()\n",
    "    for i in pos:\n",
    "        if x[i,a].X:\n",
    "            agent_clients.append(i)\n",
    "    # Find start\n",
    "    print(f\"Agent {a}: {agent_clients}\")"
   ]
  },
  {
   "cell_type": "code",
   "execution_count": 20,
   "metadata": {},
   "outputs": [
    {
     "name": "stdout",
     "output_type": "stream",
     "text": [
      "Agent 0: [(9, 198.0, 198.0, 198.0)]\n",
      "Agent 1: [(7, 100.0, 100.0, 100.0)]\n",
      "Agent 2: [(10, 240.0, 240.0, 240.0)]\n",
      "Agent 3: [(2, 6.0, 6.0, 6.0)]\n",
      "Agent 4: [(4, 1630.0, 4002.0, 4002.0), (12, 526.0, 526.0, 526.0)]\n",
      "Agent 5: [(1, 1052.0, 7196.0, 0.0), (11, 939.0, 939.0, 904.0), (17, 1532.0, 4312.0, 4312.0)]\n",
      "Agent 6: [(5, 472.0, 472.0, 472.0)]\n",
      "Agent 7: [(8, 141.0, 10077.0, 10077.0), (16, 1074.0, 4445.0, 4445.0), (18, 1523.0, 1523.0, 1523.0)]\n",
      "Agent 8: [(13, 351.0, 351.0, 351.0)]\n",
      "Agent 9: [(6, 54.0, 6189.0, 6189.0), (14, 1696.0, 9740.0, 9740.0), (15, 779.0, 779.0, 729.0), (19, 1677.0, 4319.0, 4319.0)]\n"
     ]
    }
   ],
   "source": [
    "# ATTESE DI VISITA E TEMPI DI VISITA\n",
    "for a in range(AGENTS):\n",
    "    agent_clients = list()\n",
    "    for i in pos:\n",
    "        if w[i,a].X:\n",
    "            agent_clients.append((i, w[i,a].X, s[i,a].X, data_dict[i][\"READYTIME\"]))\n",
    "    # Find start\n",
    "    print(f\"Agent {a}: {agent_clients}\")"
   ]
  },
  {
   "cell_type": "code",
   "execution_count": 21,
   "metadata": {},
   "outputs": [
    {
     "name": "stdout",
     "output_type": "stream",
     "text": [
      "Agent 0 have lunch.(0.0)\n",
      "Agent 1 have lunch.(0.0)\n",
      "Agent 2 have lunch.(0.0)\n",
      "Agent 3 have lunch.(0.0)\n",
      "Agent 4 have lunch.(0.0)\n",
      "Agent 5 have lunch.(0.0)\n",
      "Agent 6 have lunch.(0.0)\n",
      "Agent 7 have lunch.(0.0)\n",
      "Agent 8 have lunch.(0.0)\n",
      "Agent 9 have lunch.(0.0)\n"
     ]
    }
   ],
   "source": [
    "# ATTESE DI VISITA E TEMPI DI VISITA\n",
    "for a in range(AGENTS):\n",
    "    agent_clients = list()\n",
    "    if t[a].X:\n",
    "        # Find start\n",
    "        print(f\"Agent {a} have lunch.({sum([l[i,j,a].X for i in pos for j in pos])})\")"
   ]
  },
  {
   "cell_type": "code",
   "execution_count": null,
   "metadata": {},
   "outputs": [],
   "source": []
  },
  {
   "cell_type": "code",
   "execution_count": 22,
   "metadata": {},
   "outputs": [
    {
     "data": {
      "text/plain": [
       "14400"
      ]
     },
     "execution_count": 22,
     "metadata": {},
     "output_type": "execute_result"
    }
   ],
   "source": [
    "LUNCH_BREAK_RANGE[0]"
   ]
  },
  {
   "cell_type": "code",
   "execution_count": 23,
   "metadata": {
    "scrolled": true
   },
   "outputs": [
    {
     "name": "stdout",
     "output_type": "stream",
     "text": [
      "AGENT  0\n",
      "AGENT  1\n",
      "AGENT  2\n",
      "AGENT  3\n",
      "AGENT  4\n",
      "___________________\n",
      "1846\n",
      "4002.0\n",
      "AGENT  5\n",
      "___________________\n",
      "1850\n",
      "9046.0\n",
      "___________________\n",
      "1841\n",
      "4312.0\n",
      "___________________\n",
      "1832\n",
      "7196.0\n",
      "AGENT  6\n",
      "AGENT  7\n",
      "___________________\n",
      "3636\n",
      "10077.0\n",
      "___________________\n",
      "1855\n",
      "6300.0\n",
      "___________________\n",
      "1848\n",
      "4445.0\n",
      "AGENT  8\n",
      "AGENT  9\n",
      "___________________\n",
      "1855\n",
      "9740.0\n",
      "___________________\n",
      "1863\n",
      "4319.0\n",
      "___________________\n",
      "1816\n",
      "6189.0\n"
     ]
    }
   ],
   "source": [
    "for a in range(AGENTS):\n",
    "    print(\"AGENT \",a)\n",
    "    for i in pos:\n",
    "        for j in pos:\n",
    "            if y[i,j,a].X:\n",
    "                print(\"___________________\")\n",
    "                print(data_dict[i]['SERVICE']+distance_matrix[i][j])\n",
    "                print(s[i,a].X+data_dict[i]['SERVICE']+distance_matrix[i][j]+w[j,a].X)"
   ]
  },
  {
   "cell_type": "code",
   "execution_count": 24,
   "metadata": {
    "scrolled": true
   },
   "outputs": [
    {
     "name": "stdout",
     "output_type": "stream",
     "text": [
      "------\n",
      "526.0\n",
      "4002.0\n",
      "------\n",
      "7196.0\n",
      "9046.0\n",
      "------\n",
      "939.0\n",
      "4312.0\n",
      "------\n",
      "4312.0\n",
      "7196.0\n",
      "------\n",
      "6300.0\n",
      "10077.0\n",
      "------\n",
      "4445.0\n",
      "6300.0\n",
      "------\n",
      "1523.0\n",
      "4445.0\n",
      "------\n",
      "6189.0\n",
      "9740.0\n",
      "------\n",
      "779.0\n",
      "4319.0\n",
      "------\n",
      "4319.0\n",
      "6189.0\n"
     ]
    }
   ],
   "source": [
    "for a in range(AGENTS):\n",
    "    for i in pos:\n",
    "        for j in pos:\n",
    "            if y[i,j,a].X:\n",
    "                print(\"------\")\n",
    "                print(s[i,a].X)\n",
    "                print(s[j,a].X)"
   ]
  },
  {
   "cell_type": "code",
   "execution_count": 25,
   "metadata": {},
   "outputs": [
    {
     "name": "stdout",
     "output_type": "stream",
     "text": [
      "------\n",
      "-0.0 || 1800\n",
      "------\n",
      "-0.0 || 1800\n",
      "------\n",
      "-0.0 || 1800\n",
      "------\n",
      "-0.0 || 1800\n",
      "------\n",
      "-0.0 || 1800\n",
      "------\n",
      "-0.0 || 3600\n",
      "------\n",
      "-0.0 || 1800\n",
      "------\n",
      "-0.0 || 1800\n",
      "------\n",
      "-0.0 || 1800\n",
      "------\n",
      "-0.0 || 1800\n"
     ]
    }
   ],
   "source": [
    "for a in range(AGENTS):\n",
    "    for i in pos:\n",
    "        for j in pos:\n",
    "            if y[i,j,a].X:\n",
    "                print(\"------\")\n",
    "                print(c[i,j,a].X, \"||\", data_dict[j]['SERVICE'])"
   ]
  }
 ],
 "metadata": {
  "kernelspec": {
   "display_name": "Python 3",
   "language": "python",
   "name": "python3"
  },
  "language_info": {
   "codemirror_mode": {
    "name": "ipython",
    "version": 3
   },
   "file_extension": ".py",
   "mimetype": "text/x-python",
   "name": "python",
   "nbconvert_exporter": "python",
   "pygments_lexer": "ipython3",
   "version": "3.7.1rc1"
  }
 },
 "nbformat": 4,
 "nbformat_minor": 2
}

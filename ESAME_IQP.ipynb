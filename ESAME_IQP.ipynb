{
 "cells": [
  {
   "cell_type": "raw",
   "metadata": {},
   "source": [
    "# Agent Scheduling Problem\n",
    "This isn't the classic Traveling Salesman Problem with Time Windows because there are more constraints to respect.<br>\n",
    "Those constraints are:\n",
    "<ul>\n",
    "    <li>30 minutes for lunch between 12:00 AM and 2:00 PM;</li>\n",
    "    <li>Limited working time (8 hours);</li>\n",
    "    <li>Limited waiting and traveling time;</li>\n",
    "    <li>Minimum time to spent in office (1 hour);</li>\n",
    "</ul>"
   ]
  },
  {
   "cell_type": "raw",
   "metadata": {},
   "source": [
    "\\pagebreak"
   ]
  },
  {
   "cell_type": "markdown",
   "metadata": {},
   "source": [
    "## Model"
   ]
  },
  {
   "cell_type": "raw",
   "metadata": {},
   "source": [
    "min travel\\_cost*\\sum_{i\\in ALL}\\sum_{j\\in ALL}\\sum_{a\\in A} x_{i,j,a}*distance_{i,j}\\ +\\ wait\\_cost*\\sum_{i\\in C}\\sum_{a\\in A}w_{i,a}\\ +\\ \\sum_{i\\in RBLE}\\sum_{a\\in A}s_{i,a} \\\\\n",
    "{}\\qquad1)\\qquad \\sum_{i\\in ALL}\\sum_{a\\in A} x_{i,j,a} = 1\\ ,\\qquad j\\in C\\\\\n",
    "{}\\qquad2)\\qquad \\sum_{i\\in ALL}\\sum_{a\\in A} x_{i,j,a} \\leq  1\\ ,\\qquad j\\in FO\\\\\n",
    "{}\\qquad3)\\qquad \\sum_{j\\in REAL} x_{start,j,a} = 1\\ ,\\qquad a\\in A\\\\\n",
    "{}\\qquad4)\\qquad x_{start,j,a} = 0\\ ,\\qquad j\\in FO,\\ a\\in A\\\\\n",
    "{}\\qquad5)\\qquad \\sum_{i\\in RBLE} x_{i,s,a} = 1\\ ,\\qquad a\\in A\\\\\n",
    "{}\\qquad6)\\qquad \\sum_{i\\in ALL} x_{i,h,a}\\ -\\ \\sum_{j\\in ALL} x_{h,j,a} = 0\\ ,\\qquad h\\in ALL,\\ a\\in A\\\\\n",
    "{}\\qquad7)\\qquad x_{i,i,a} = 0\\ ,\\qquad i\\in ALL,\\ a\\in A\\\\\n",
    "{}\\qquad8)\\qquad c_{j,a} = service_j*\\sum_{i\\in ALL}x_{i,j,a} \\ ,\\qquad i\\in C,\\ a\\in A\\\\\n",
    "{}\\qquad9)\\qquad \\sum_{i\\in ALL}\\sum_{j\\in o+FO}c_{j,a}*x_{i,j,a} >= service_{o}\\ ,\\qquad a\\in A\\\\\n",
    "{}\\qquad10)\\qquad c_{j,a} \\geq  x_{i,j,a}\\ ,\\qquad i\\in ALL,\\ j\\in RBLE,\\ a\\in A\\\\\n",
    "{}\\qquad11)\\qquad \\sum_{i\\in ALL}\\sum_{i\\in o+FO}x_{i,j,a} \\geq 1\\ ,\\qquad a\\in A\\\\\n",
    "{}\\qquad12)\\qquad x_{i,j,a} = 0\\ ,\\qquad i\\in o+FO,\\ j\\in o+FO,\\ a\\in A\\\\\n",
    "{}\\qquad13)\\qquad x_{i,o,a} = 0\\ ,\\qquad i\\in C,\\ a\\in A\\\\\n",
    "{}\\qquad14)\\qquad x_{j,j+clients,a} \\leq  \\sum_{i\\in ALL}x_{i,j,a}\\ ,\\qquad j\\in C,\\ a\\in A\\\\\n",
    "{}\\qquad15)\\qquad \\{x_{i,j,a} = 0\\ \\ if\\ i\\neq j-clients\\}\\ ,\\qquad i\\in REAL,\\ j\\in FO,\\ a\\in A\\\\\n",
    "{}\\qquad16)\\qquad window\\_start_{i} * \\sum_{h\\in ALL}x_{h,i,a} \\leq s_{i,a}\\ ,\\qquad i\\in C,\\ a\\in A\\\\\n",
    "{}\\qquad17)\\qquad window\\_end_{i} * \\sum_{h\\in ALL}x_{h,i,a} \\geq s_{i,a}\\ ,\\qquad i\\in C,\\ a\\in A\\\\\n",
    "{}\\qquad18)\\qquad x_{i,j,a}*(s_{i,a} + c_{i,a} + distance_{i,j} + w_{j,a}) \\geq l_{i,j,a}*lunch\\_start\\ ,\\\\\n",
    "{}\\qquad\\qquad\\qquad i\\in RBLE,\\ j\\in RBLE,\\ a\\in A\\\\\n",
    "{}\\qquad19)\\qquad l_{i,j,a}*(s_{i,a} + c_{i,a} + distance_{i,j} + w_{j,a}) \\leq x_{i,j,a}*lunch\\_end\\ ,\\\\\n",
    "{}\\qquad\\qquad\\qquad i\\in RBLE,\\ j\\in RBLE,\\ a\\in A\\\\\n",
    "{}\\qquad20)\\qquad l_{i,j,a}\\leq x_{i,j,a}*lunch\\_end\\ ,\\qquad i\\in RBLE,\\ j\\in RBLE,\\ a\\in A\\\\\n",
    "{}\\qquad21)\\qquad t_{a} = max(s_{i,a},\\ i\\in RBLE)\\ ,\\qquad a\\in A\\\\\n",
    "{}\\qquad22)\\qquad work\\_end*\\sum_{i\\in RBLE}\\sum_{j\\in RBLE}l_{i,j,a} \\geq t_{a} - lunch\\_start\\ ,\\qquad a\\in A\\\\\n",
    "{}\\qquad23)\\qquad work\\_end*\\sum_{i\\in RBLE}\\sum_{j\\in RBLE}(1-l_{i,j,a}) \\geq lunch\\_start-t_{a},\\ \\ a\\in A\\\\\n",
    "{}\\qquad24)\\qquad s_{j,a} = \\sum_{i\\in RBLE,\\ i!=j}x_{i,j,a}*(s_{i,a}+c_{i,a}+\\\\\n",
    "{}\\qquad\\qquad\\qquad distance_{i,j}+l_{i,j,a}*lunch\\_len) + w_{j,a}\\ ,\\qquad j\\in RBLE,\\ a\\in A\\\\\n",
    "{}\\qquad25)\\qquad \\sum_{i\\in RBLE}\\sum_{j\\in RBLE}x_{i,j,a}*distance_{i,j}\\ +\\\\\n",
    "{}\\qquad\\qquad\\qquad \\sum_{i\\in ALL}\\sum_{j\\in RBLE}x_{i,j,a}*service_{j}\\ +\\\\\n",
    "{}\\qquad\\qquad\\qquad \\sum_{i\\in RBLE}w_{i,a}\\ +\\\\\n",
    "{}\\qquad\\qquad\\qquad \\sum_{i\\in RBLE}\\sum_{j\\in RBLE}l_{i,j,a}*lunch\\_len\\ +\\\\\n",
    "{}\\qquad\\qquad\\qquad work\\_start \\leq work\\_end\\ ,\\qquad a\\in A\\\\\n",
    "\\\\\n",
    "{}\\qquad\\qquad\\qquad x_{i,j,a}\\in \\{0,1\\}\\ , i\\in ALL,\\ j\\in ALL,\\ a\\in A\\\\\n",
    "{}\\qquad\\qquad\\qquad y_{i,a}\\in \\mathbb{N}\\ , i\\in ALL,\\ a\\in A\\\\\n",
    "{}\\qquad\\qquad\\qquad c_{i,a}\\in \\mathbb{N}\\ , i\\in ALL,\\ a\\in A\\\\\n",
    "{}\\qquad\\qquad\\qquad w_{i,a}\\in \\mathbb{N}\\ , i\\in ALL,\\ a\\in A\\\\\n",
    "{}\\qquad\\qquad\\qquad l_{i,j,a}\\in \\{0,1\\}\\ , i\\in ALL,\\ j\\in ALL,\\ a\\in A\\\\\n",
    "{}\\qquad\\qquad\\qquad t_{a}\\in \\mathbb{N}\\ , a\\in A\\\\\n",
    "\\\\\n",
    "{}\\qquad\\qquad\\qquad start = clients+1\\\\\n",
    "{}\\qquad\\qquad\\qquad o = 0\\\\\n",
    "{}\\qquad\\qquad\\qquad C = \\{1,...,clients\\}\\\\\n",
    "{}\\qquad\\qquad\\qquad ALL = \\{0,...2clients+1\\}\\\\\n",
    "{}\\qquad\\qquad\\qquad REAL = \\{0,...,clients\\}\\\\\n",
    "{}\\qquad\\qquad\\qquad RBLE = ALL-\\{s\\}\\\\\n",
    "{}\\qquad\\qquad\\qquad FO = \\{P+2,...,2clients+1\\}"
   ]
  },
  {
   "cell_type": "raw",
   "metadata": {},
   "source": [
    "\\pagebreak"
   ]
  },
  {
   "cell_type": "markdown",
   "metadata": {},
   "source": [
    "## Model implementation"
   ]
  },
  {
   "cell_type": "markdown",
   "metadata": {},
   "source": [
    "### Importing libraries"
   ]
  },
  {
   "cell_type": "code",
   "execution_count": 1,
   "metadata": {},
   "outputs": [],
   "source": [
    "from gurobipy import*\n",
    "\n",
    "import math\n",
    "import matplotlib.pyplot as plt\n",
    "import networkx as nx\n",
    "import numpy as np\n",
    "import pandas as pd\n",
    "import pickle"
   ]
  },
  {
   "cell_type": "markdown",
   "metadata": {},
   "source": [
    "### Define file with clients data"
   ]
  },
  {
   "cell_type": "code",
   "execution_count": 2,
   "metadata": {},
   "outputs": [],
   "source": [
    "FILE = \"./TEST_SETS/test_1.txt\""
   ]
  },
  {
   "cell_type": "markdown",
   "metadata": {},
   "source": [
    "### Define costant parameters"
   ]
  },
  {
   "cell_type": "code",
   "execution_count": 3,
   "metadata": {},
   "outputs": [],
   "source": [
    "# Default params\n",
    "SUPPORTED_FORMAT = ['NUM', 'X', 'Y', 'DEMAND', 'READYTIME', 'DUEDATE', 'SERVICE']\n",
    "# Macros for time values conversions\n",
    "MINUTES = 60\n",
    "HOURS = 3600\n",
    "OFFSET_TIMES = 8*HOURS\n",
    "\n",
    "COLUMNS_OPS = {'NUM': lambda x: float(x),\n",
    "               'X': lambda x: float(x),\n",
    "               'Y': lambda x: float(x),\n",
    "               'DEMAND': lambda x: 1,\n",
    "               'READYTIME': lambda x: float(x),\n",
    "               'DUEDATE': lambda x: float(x),\n",
    "               'SERVICE': lambda x: float(x)\n",
    "              }\n",
    "# Agents count\n",
    "AGENTS = 3\n",
    "\n",
    "# Agent Working day start and end\n",
    "WORKING_TIME_RANGE = (0, 8*HOURS)\n",
    "\n",
    "# Agent Lunch break time range, lasting\n",
    "LUNCH_BREAK_RANGE = (12*HOURS-OFFSET_TIMES, 13.5*HOURS-OFFSET_TIMES)\n",
    "LUNCH_BREAK_TIME = 30*MINUTES\n",
    "\n",
    "# Agents office parameters\n",
    "OFFICE_NUM = 0\n",
    "OFFICE_X = .0\n",
    "OFFICE_Y = .0\n",
    "OFFICE_READYTIME = WORKING_TIME_RANGE[0]\n",
    "OFFICE_DUEDATE = WORKING_TIME_RANGE[1]\n",
    "OFFICE_SERVICE = 1*HOURS"
   ]
  },
  {
   "cell_type": "markdown",
   "metadata": {},
   "source": [
    "### Read clients data"
   ]
  },
  {
   "cell_type": "code",
   "execution_count": 4,
   "metadata": {},
   "outputs": [],
   "source": [
    "def read_input_tsptw(filename):\n",
    "    \"\"\" Function used to convert input file to usable data.\n",
    "        :params filename: File to convert,\n",
    "        :return: A dict with nodes parameters,\n",
    "                 A distance matrix between nodes,\n",
    "                 Nodes coordinates.\n",
    "    \"\"\"\n",
    "    # Dict sed for locations parameters\n",
    "    data_dict = dict()\n",
    "    \n",
    "    # List of node positions for plots\n",
    "    nodes_x = list()\n",
    "    nodes_y = list()\n",
    "       \n",
    "    # Add office to data\n",
    "    data_dict.update({OFFICE_NUM: {'X': OFFICE_X, \n",
    "                                   'Y': OFFICE_Y, \n",
    "                                   'DEMAND': AGENTS,\n",
    "                                   'READYTIME': OFFICE_READYTIME,\n",
    "                                   'DUEDATE': OFFICE_DUEDATE,\n",
    "                                   'SERVICE': OFFICE_SERVICE,}})\n",
    "    # Add office to nodes\n",
    "    nodes_x.append(OFFICE_X)\n",
    "    nodes_y.append(OFFICE_Y)\n",
    "    \n",
    "    # Open file and read lines \n",
    "    with open(filename, \"r\") as file:\n",
    "        # Initialize columns in empty dict\n",
    "        columns = file.readline().replace(\"#\",\"\").split()\n",
    "        if columns != SUPPORTED_FORMAT:\n",
    "            print(\"ERROR! Format not supported.\")\n",
    "            return \n",
    "                   \n",
    "        # For each data line\n",
    "        for line in file.readlines():\n",
    "            node_dict = {k: COLUMNS_OPS[k](val) for k, val in zip(columns, line.split())}\n",
    "            # Get id\n",
    "            node_id = node_dict.pop('NUM')\n",
    "            # Insert new node in data dict\n",
    "            data_dict.update({int(node_id): node_dict})            \n",
    "            # Get nodes positions\n",
    "            nodes_x.append(float(line.split()[columns.index('X')]))\n",
    "            nodes_y.append(float(line.split()[columns.index('Y')]))\n",
    "\n",
    "    # Get distance matrix\n",
    "    distance_matrix = compute_distance_matrix(nodes_x, nodes_y)\n",
    "    return (data_dict, distance_matrix, dict(enumerate(zip(nodes_x, nodes_y))))\n",
    "\n",
    "\n",
    "def compute_distance_matrix(nodes_x, nodes_y):\n",
    "    \"\"\" Function used to compute the euclidean distance matrix.\n",
    "        :param nodes_x: List of nodes x coordinates,\n",
    "        :param nodes_y: List of nodes y coordinates,\n",
    "        :return: Distance matrix between nodes.\"\"\"\n",
    "    # Get clients count and initialize distance matrix\n",
    "    clients = len(nodes_x)\n",
    "    distance_matrix = [[None for i in range(clients)] for j in range(clients)]\n",
    "    for i in range(clients):\n",
    "        # Set cost of trip between same agent and himself as null\n",
    "        distance_matrix[i][i] = 0\n",
    "        for j in range(clients):\n",
    "            # Compute distance matrix calculating euclidean distance between each node\n",
    "            dist = compute_dist(nodes_x[i], nodes_x[j], nodes_y[i], nodes_y[j])\n",
    "            distance_matrix[i][j] = dist\n",
    "            distance_matrix[j][i] = dist\n",
    "    return distance_matrix\n",
    "\n",
    "\n",
    "def compute_dist(xi, xj, yi, yj):\n",
    "    \"\"\" Function used to compute euclidean distance.\n",
    "        :param xi: x coordinate of first node,\n",
    "        :param xj: x coordinate of second node,\n",
    "        :param yi: y coordinate of first node,\n",
    "        :param yj: y coordinate of second node,\n",
    "        :return: Euclidean distance between nodes.\n",
    "        \"\"\"\n",
    "    exact_dist = math.sqrt(math.pow(xi - xj, 2) + math.pow(yi - yj, 2))\n",
    "    return int(math.floor(exact_dist + 0.5))"
   ]
  },
  {
   "cell_type": "code",
   "execution_count": 5,
   "metadata": {},
   "outputs": [],
   "source": [
    "# Getting locations parameters\n",
    "data_dict, distance_matrix, positions = read_input_tsptw(FILE)"
   ]
  },
  {
   "cell_type": "raw",
   "metadata": {},
   "source": [
    "\\pagebreak"
   ]
  },
  {
   "cell_type": "markdown",
   "metadata": {},
   "source": [
    "## Gurobi Model\n",
    "### Setup model parameters"
   ]
  },
  {
   "cell_type": "code",
   "execution_count": 6,
   "metadata": {},
   "outputs": [],
   "source": [
    "# DEBUG RESTRICTIONS\n",
    "CLIENTS = len(data_dict)\n",
    "data_dict = {k: v for k,v in data_dict.items() if k < CLIENTS}\n",
    "distance_matrix = [dm[:CLIENTS] for dm in distance_matrix[:CLIENTS]]\n",
    "\n",
    "# ADD FITTICIOUS LOCATION\n",
    "# This location is used to have a complete loop in Agent trips without interfering \n",
    "# with trips costs. Having a complete loop simplify the job of creating a trip.\n",
    "# To not interfer with costs it's distance to all other locations is 0. \n",
    "distance_matrix = [dm + [0,] for dm in distance_matrix]\n",
    "distance_matrix = distance_matrix + [[0]*(CLIENTS+1)]\n",
    "# Add location data\n",
    "data_dict.update({CLIENTS: {'X': 0, \n",
    "                            'Y': 0, \n",
    "                            'DEMAND': AGENTS,\n",
    "                            'READYTIME': WORKING_TIME_RANGE[0],\n",
    "                            'DUEDATE': WORKING_TIME_RANGE[1],\n",
    "                            'SERVICE': 0,}})\n",
    "\n",
    "# POSITIONS SETS FOR CLEANER MODEL\n",
    "agent_list = list(range(AGENTS))\n",
    "all_pos = list(range(CLIENTS*2))\n",
    "start_pos = CLIENTS\n",
    "client_pos = list(range(1,CLIENTS))\n",
    "only_start_office_pos = 0\n",
    "no_duplicates_pos = list(range(0,CLIENTS))\n",
    "destination_office_pos = list(range(CLIENTS+1, CLIENTS*2))\n",
    "office_pos = [only_start_office_pos]+destination_office_pos\n",
    "reachable_pos = [p for p in range(CLIENTS*2) if p not in [start_pos,]]"
   ]
  },
  {
   "cell_type": "markdown",
   "metadata": {},
   "source": [
    "### Add Multipliers to minimize wait time over travel time"
   ]
  },
  {
   "cell_type": "code",
   "execution_count": 7,
   "metadata": {},
   "outputs": [],
   "source": [
    "# Multiplier for distance and wait costs\n",
    "TRAVEL_COST_MULTIPLIER = 1\n",
    "WAIT_COST_MULTIPLIER = 2"
   ]
  },
  {
   "cell_type": "markdown",
   "metadata": {},
   "source": [
    "### Create the model"
   ]
  },
  {
   "cell_type": "code",
   "execution_count": 8,
   "metadata": {},
   "outputs": [
    {
     "name": "stdout",
     "output_type": "stream",
     "text": [
      "\n",
      "--------------------------------------------\n",
      "Warning: your license will expire in 3 days\n",
      "--------------------------------------------\n",
      "\n",
      "Using license file C:\\Users\\gabriele\\gurobi.lic\n",
      "Academic license - for non-commercial use only\n"
     ]
    }
   ],
   "source": [
    "# Create model\n",
    "mod = Model(\"TSPTW\")    "
   ]
  },
  {
   "cell_type": "raw",
   "metadata": {},
   "source": [
    "\\pagebreak"
   ]
  },
  {
   "cell_type": "markdown",
   "metadata": {},
   "source": [
    "### Variables\n",
    "IMPORTANT!<br>\n",
    "Office IS ONE AND ONLY ONE but because i wasn't unable to find a better solution for multiple Agent visiting it i've repeated Office (originally in position 0) in all position greater than number_of_clients + 1.<br>\n",
    "\n",
    "WARNING!<br>\n",
    "Position from number_of_clients + 2 forward are office positions reachable only from           client_pos = office_pos - number_of_clients.<br>\n",
    "\n",
    "WARNING!<br>\n",
    "Position number_of_clients + 1 is used as fitticious start and end trip loop location, position 0 is office too, Agents can only start from office 0 they can't go there.<br>"
   ]
  },
  {
   "cell_type": "code",
   "execution_count": 9,
   "metadata": {},
   "outputs": [],
   "source": [
    "#  Agent trip\n",
    "x = mod.addVars({(i,j,a): 0 for i in all_pos\n",
    "                            for j in all_pos \n",
    "                            for a in agent_list}, \n",
    "                name=\"x\", \n",
    "                vtype=GRB.BINARY)\n",
    "\n",
    "# Serve time\n",
    "s =  mod.addVars({(i,a): 0 for i in all_pos \n",
    "                           for a in agent_list}, \n",
    "                 name=\"s\", \n",
    "                 vtype=GRB.INTEGER)\n",
    "\n",
    "# Serve Client/Office lasting\n",
    "c = mod.addVars({(i,a): 0 for i in all_pos\n",
    "                          for a in agent_list}, \n",
    "                name=\"c\", \n",
    "                vtype=GRB.INTEGER)\n",
    "\n",
    "# Wait time\n",
    "w = mod.addVars({(i,a): 0 for i in all_pos\n",
    "                          for a in agent_list}, \n",
    "                name=\"w\", \n",
    "                vtype=GRB.INTEGER, \n",
    "                lb=0)\n",
    "\n",
    "# Lunch done between customers\n",
    "l = mod.addVars({(i,j,a): 0 for i in all_pos\n",
    "                            for j in all_pos\n",
    "                            for a in agent_list}, \n",
    "                name=\"l\", \n",
    "                vtype=GRB.BINARY)\n",
    "\n",
    "# Max working time \n",
    "t = mod.addVars({(a): 0 for a in agent_list},\n",
    "               name=\"t\",\n",
    "               vtype=GRB.INTEGER)"
   ]
  },
  {
   "cell_type": "raw",
   "metadata": {},
   "source": [
    "\\pagebreak"
   ]
  },
  {
   "cell_type": "markdown",
   "metadata": {},
   "source": [
    "### Constraints\n",
    "#### Trip contraints"
   ]
  },
  {
   "cell_type": "code",
   "execution_count": 10,
   "metadata": {},
   "outputs": [],
   "source": [
    "# 1 - All client must be visited from an Agent\n",
    "_= mod.addConstrs((quicksum(x[i,j,a]\n",
    "                            for i in all_pos\n",
    "                            for a in agent_list) == 1\n",
    "                  for j in client_pos),\n",
    "                  name=\"ServeAll\")\n",
    "\n",
    "# 2 - All duplicated Offices must be visited from at most an Agent\n",
    "_= mod.addConstrs((quicksum(x[i,j,a]\n",
    "                            for i in all_pos\n",
    "                            for a in agent_list) <= 1\n",
    "                  for j in destination_office_pos),\n",
    "                  name=\"ServeDuplicatesOffice\")\n",
    "\n",
    "# 3 - All Agents start their trip from fitticious location\n",
    "_= mod.addConstrs((quicksum(x[start_pos,j,a] \n",
    "                            for j in no_duplicates_pos) == 1\n",
    "                  for a in agent_list),\n",
    "                  name=\"StartFromFitticious\")\n",
    "\n",
    "# 4 - Agents can't start their trip from fitticious location and go to only destination Office\n",
    "_= mod.addConstrs((x[start_pos,j,a] == 0\n",
    "                  for j in destination_office_pos\n",
    "                  for a in agent_list),\n",
    "                  name=\"NotStartFromFitticiousToOffice\")\n",
    "                  \n",
    "# 5 - All Agents end their trip in fitticious location \n",
    "_= mod.addConstrs((quicksum(x[i,start_pos,a] \n",
    "                            for i in reachable_pos) == 1\n",
    "                  for a in agent_list),\n",
    "                  name=\"EndInFitticious\")\n",
    "\n",
    "# 6 - Each served location has a served location before\n",
    "_= mod.addConstrs((quicksum(x[i,h,a] for i in all_pos) - \n",
    "                   quicksum(x[h,j,a] for j in all_pos) == 0\n",
    "                  for h in all_pos\n",
    "                  for a in agent_list),\n",
    "                  name=\"ContinuousLoops\")\n",
    "\n",
    "# 7 - Agent can't do loop between same Client\n",
    "_= mod.addConstrs((x[i,i,a] == 0\n",
    "                  for a in agent_list\n",
    "                  for i in all_pos),\n",
    "                  name=\"NoSelfLoops\")"
   ]
  },
  {
   "cell_type": "raw",
   "metadata": {},
   "source": [
    "\\pagebreak"
   ]
  },
  {
   "cell_type": "markdown",
   "metadata": {},
   "source": [
    "#### Service time constraints"
   ]
  },
  {
   "cell_type": "code",
   "execution_count": 11,
   "metadata": {},
   "outputs": [],
   "source": [
    "# 8 - Sum of time spent into a location in a specific trip must be equal to Service \n",
    "#     time of that location\n",
    "_= mod.addConstrs((c[j,a] == quicksum(x[i,j,a] for i in all_pos) * data_dict[j]['SERVICE']\n",
    "                  for j in client_pos\n",
    "                  for a in agent_list),\n",
    "                  name=\"ServingTime\")\n",
    "\n",
    "# 9 - Sum of time spent into Office in a specific trip must be equal to Office service time\n",
    "_= mod.addConstrs((quicksum(c[j,a]*x[i,j,a] \n",
    "                          for i in all_pos\n",
    "                          for j in office_pos) >= data_dict[0]['SERVICE']\n",
    "                  for a in agent_list),\n",
    "                  name=\"ServingTimeOffice\")\n",
    "\n",
    "# 10 -Agent can go to a location only to spend time\n",
    "_= mod.addConstrs((c[j,a] >= x[i,j,a]  \n",
    "                   for i in all_pos \n",
    "                   for j in reachable_pos \n",
    "                   for a in agent_list),\n",
    "                 name=\"GoOnlyIfNeeded\")"
   ]
  },
  {
   "cell_type": "markdown",
   "metadata": {},
   "source": [
    "#### Office constraints"
   ]
  },
  {
   "cell_type": "code",
   "execution_count": 12,
   "metadata": {},
   "outputs": [],
   "source": [
    "# 11 - Agent must go office at least once or start from it [0]\n",
    "_= mod.addConstrs((quicksum(x[i,j,a] \n",
    "                        for i in all_pos \n",
    "                        for j in office_pos) >= 1 \n",
    "                   for a in agent_list),\n",
    "                  name=\"ServeOffice\")\n",
    "\n",
    "# 12 - Agent can't go office from office\n",
    "_= mod.addConstrs((x[i,j,a] == 0  \n",
    "                    for i in office_pos\n",
    "                    for j in office_pos\n",
    "                    for a in agent_list),\n",
    "                  name=\"NoOfficeFromOfficeB\")\n",
    "\n",
    "# 13 - That is an only start Office position (Not Fitticious)\n",
    "_= mod.addConstrs((x[i,0,a] == 0  \n",
    "                    for i in client_pos\n",
    "                    for a in agent_list),\n",
    "                  name=\"NoOfficeFromOfficeC\")\n",
    "\n",
    "# 14 - Agent can go to (Fitticious) Office only if he visited the associated Client \n",
    "_= mod.addConstrs((x[j,j+CLIENTS,a] <= quicksum(x[i,j,a] for i in all_pos)\n",
    "                    for j in client_pos\n",
    "                    for a in agent_list),\n",
    "                  name=\"GoOfficeOnlyIfVisitedItsClient\")\n",
    "\n",
    "# 15 - Agent can go to (Fitticious) Office just after he visit the associated Client\n",
    "_= mod.addConstrs((x[i,j,a] == 0\n",
    "                   for i in no_duplicates_pos\n",
    "                   for j in destination_office_pos\n",
    "                   for a in agent_list\n",
    "                   if i != j-CLIENTS),\n",
    "                  name=\"GoOfficeAfterItsClient\")"
   ]
  },
  {
   "cell_type": "raw",
   "metadata": {},
   "source": [
    "\\pagebreak"
   ]
  },
  {
   "cell_type": "markdown",
   "metadata": {},
   "source": [
    "#### Time windows constraints"
   ]
  },
  {
   "cell_type": "code",
   "execution_count": 13,
   "metadata": {},
   "outputs": [],
   "source": [
    "# 16 - Agent serve Client after his time window start\n",
    "_= mod.addConstrs((data_dict[i]['READYTIME'] * \n",
    "                   quicksum(x[h,i,a] \n",
    "                            for h in all_pos) <= s[i,a]\n",
    "                   for i in client_pos\n",
    "                   for a in agent_list),\n",
    "                  name=\"ServeAfterTWStart\")\n",
    "\n",
    "# 17 - Agent serve Client before his time window end\n",
    "_= mod.addConstrs((data_dict[i]['DUEDATE'] * \n",
    "                   quicksum(x[h,i,a] \n",
    "                            for h in all_pos) >= s[i,a]\n",
    "                   for i in client_pos\n",
    "                   for a in agent_list),\n",
    "                  name=\"ServeBeforeTWEnd\")"
   ]
  },
  {
   "cell_type": "markdown",
   "metadata": {},
   "source": [
    "#### Lunch break constraints"
   ]
  },
  {
   "cell_type": "code",
   "execution_count": 14,
   "metadata": {},
   "outputs": [],
   "source": [
    "# 18 - If Agent has lunch it must be after lunch time start\n",
    "_= mod.addConstrs((x[i,j,a]*(s[i,a] + \n",
    "                             c[i,a] + \n",
    "                             distance_matrix[i if i in no_duplicates_pos else 0][j if j in no_duplicates_pos else 0] + \n",
    "                             w[j,a]) >= l[i,j,a]*LUNCH_BREAK_RANGE[0] \n",
    "                   for i in reachable_pos\n",
    "                   for j in reachable_pos\n",
    "                   for a in agent_list),\n",
    "                  name=\"LunchTimeStart\")\n",
    "\n",
    "# 19 - If Agent has lunch it must be before lunch time end\n",
    "_= mod.addConstrs((l[i,j,a]*(s[i,a] + \n",
    "                             c[i,a] +\n",
    "                             distance_matrix[i if i in no_duplicates_pos else 0][j if j in no_duplicates_pos else 0] +\n",
    "                             w[j,a]) <= x[i,j,a]*LUNCH_BREAK_RANGE[1] \n",
    "                   for i in reachable_pos\n",
    "                   for j in reachable_pos\n",
    "                   for a in agent_list),\n",
    "                  name=\"LunchTimeEnd\")\n",
    "\n",
    "# 20 - If Agent have lunch between Clients I and J, agent have to make trip between I and J  \n",
    "_= mod.addConstrs((l[i,j,a] <= x[i,j,a]\n",
    "                   for i in reachable_pos\n",
    "                   for j in reachable_pos\n",
    "                   for a in agent_list),\n",
    "                  name=\"LunchTime\")\n",
    "\n",
    "# 21 - Getting maximum Agent service time\n",
    "_= mod.addConstrs((t[a] == max_(s[i,a] for i in reachable_pos) \n",
    "                   for a in agent_list),\n",
    "                  name=\"MaxServiceTime\")\n",
    "\n",
    "# 22 - If Agent working time is greater than lunch time than Agent must have lunch\n",
    "_= mod.addConstrs((WORKING_TIME_RANGE[1] * (quicksum(l[i,j,a]\n",
    "                                             for i in reachable_pos\n",
    "                                             for j in reachable_pos)) >= t[a] - LUNCH_BREAK_RANGE[0]\n",
    "                   for a in agent_list),\n",
    "                  name=\"AgentNeedLunchI\")\n",
    "\n",
    "# 23 - If Agent working time is lesser than lunch time than Agent must not have lunch\n",
    "_= mod.addConstrs((WORKING_TIME_RANGE[1] * (1 - quicksum(l[i,j,a]\n",
    "                                             for i in reachable_pos\n",
    "                                             for j in reachable_pos)) >= LUNCH_BREAK_RANGE[0] - t[a]\n",
    "                   for a in agent_list),\n",
    "                  name=\"AgentNeedLunchII\")"
   ]
  },
  {
   "cell_type": "raw",
   "metadata": {},
   "source": [
    "\\pagebreak"
   ]
  },
  {
   "cell_type": "markdown",
   "metadata": {},
   "source": [
    "#### Service time constraint"
   ]
  },
  {
   "cell_type": "code",
   "execution_count": 15,
   "metadata": {},
   "outputs": [],
   "source": [
    "# 24 - Service time of Client J is equal to sum of:\n",
    "#      wait_time_of_client_J, service_time_of_client_I_before_of_J, trip_between_I_and_J, \n",
    "#      time_of_service_of_client_I, lunch_time_if_present\n",
    "_= mod.addConstrs((s[j,a] == quicksum(x[i,j,a]*\n",
    "                                      (s[i,a] + \n",
    "                                       c[i,a] +\n",
    "                                       distance_matrix[i if i in no_duplicates_pos else 0][j if j in no_duplicates_pos else 0] +\n",
    "                                       l[i,j,a]*LUNCH_BREAK_TIME)                                    \n",
    "                                      for i in reachable_pos if i!=j) +\n",
    "                             w[j,a]\n",
    "                    for a in agent_list\n",
    "                    for j in reachable_pos), \n",
    "                  name=\"RouteInTime\")"
   ]
  },
  {
   "cell_type": "markdown",
   "metadata": {},
   "source": [
    "#### Working day constraint"
   ]
  },
  {
   "cell_type": "code",
   "execution_count": 16,
   "metadata": {},
   "outputs": [],
   "source": [
    "# 25 - Sum of minutes spent in: travels, servicing clients, waiting, eating at lunch \n",
    "_= mod.addConstrs((quicksum(x[i,j,a] * \n",
    "                            distance_matrix[i if i in no_duplicates_pos else 0][j if j in no_duplicates_pos else 0]\n",
    "                           for i in reachable_pos\n",
    "                           for j in reachable_pos) +\n",
    "                   quicksum(x[i,j,a] * \n",
    "                            data_dict[j if j in no_duplicates_pos else 0]['SERVICE']\n",
    "                           for i in all_pos \n",
    "                           for j in reachable_pos) +\n",
    "                   quicksum(w[i,a]\n",
    "                           for i in reachable_pos) +\n",
    "                   quicksum(l[i,j,a]\n",
    "                            for i in reachable_pos\n",
    "                            for j in reachable_pos) * \n",
    "                            LUNCH_BREAK_TIME +\n",
    "                   WORKING_TIME_RANGE[0] <= WORKING_TIME_RANGE[1]\n",
    "                   for a in agent_list),\n",
    "                  name=\"MaxHours\")"
   ]
  },
  {
   "cell_type": "raw",
   "metadata": {},
   "source": [
    "\\pagebreak"
   ]
  },
  {
   "cell_type": "markdown",
   "metadata": {},
   "source": [
    "### Objective Function\n",
    "\n",
    "This objective funtion want to minimize time spent traveling between clients and awaiting for clients time windows."
   ]
  },
  {
   "cell_type": "code",
   "execution_count": 17,
   "metadata": {},
   "outputs": [],
   "source": [
    "mod.setObjective(quicksum(x[i,j,a] * \n",
    "                          distance_matrix[i if i in no_duplicates_pos else 0][j if j in no_duplicates_pos else 0]\n",
    "                  for i in all_pos\n",
    "                  for j in all_pos\n",
    "                  for a in agent_list) * TRAVEL_COST_MULTIPLIER + \n",
    "                 quicksum(w[i,a]\n",
    "                  for i in reachable_pos\n",
    "                  for a in agent_list) * WAIT_COST_MULTIPLIER + \n",
    "                 quicksum(s[i,a]\n",
    "                  for i in reachable_pos\n",
    "                  for a in agent_list), \n",
    "                 GRB.MINIMIZE)"
   ]
  },
  {
   "cell_type": "raw",
   "metadata": {},
   "source": [
    "\\pagebreak"
   ]
  },
  {
   "cell_type": "markdown",
   "metadata": {},
   "source": [
    "### Model optimization\n",
    "\n",
    "Optimize problem using simplex method."
   ]
  },
  {
   "cell_type": "code",
   "execution_count": 18,
   "metadata": {},
   "outputs": [
    {
     "name": "stdout",
     "output_type": "stream",
     "text": [
      "Changed value of parameter Method to 0\n",
      "   Prev: -1  Min: -1  Max: 5  Default: -1\n",
      "Changed value of parameter TimeLimit to 3000.0\n",
      "   Prev: inf  Min: 0.0  Max: inf  Default: inf\n"
     ]
    }
   ],
   "source": [
    "mod.params.Method = 0\n",
    "mod.params.TimeLimit=3000"
   ]
  },
  {
   "cell_type": "code",
   "execution_count": 19,
   "metadata": {},
   "outputs": [
    {
     "name": "stdout",
     "output_type": "stream",
     "text": [
      "Gurobi Optimizer version 9.0.3 build v9.0.3rc0 (win64)\n",
      "Optimize a model with 3722 rows, 3105 columns and 19305 nonzeros\n",
      "Model fingerprint: 0xaed80056\n",
      "Model has 2712 quadratic constraints\n",
      "Model has 3 general constraints\n",
      "Variable types: 0 continuous, 3105 integer (2904 binary)\n",
      "Coefficient statistics:\n",
      "  Matrix range     [1e+00, 3e+04]\n",
      "  QMatrix range    [1e+00, 2e+03]\n",
      "  QLMatrix range   [1e+00, 2e+04]\n",
      "  Objective range  [1e+00, 1e+03]\n",
      "  Bounds range     [1e+00, 1e+00]\n",
      "  RHS range        [1e+00, 3e+04]\n",
      "  QRHS range       [4e+03, 4e+03]\n",
      "Presolve removed 2814 rows and 1446 columns\n",
      "Presolve time: 0.09s\n",
      "Presolved: 10997 rows, 7428 columns, 36051 nonzeros\n",
      "Presolved model has 1449 SOS constraint(s)\n",
      "Variable types: 0 continuous, 7428 integer (2718 binary)\n",
      "\n",
      "Root relaxation: objective 1.247790e+05, 1154 iterations, 0.03 seconds\n",
      "\n",
      "    Nodes    |    Current Node    |     Objective Bounds      |     Work\n",
      " Expl Unexpl |  Obj  Depth IntInf | Incumbent    BestBd   Gap | It/Node Time\n",
      "\n",
      "     0     0 124779.000    0  236          - 124779.000      -     -    0s\n",
      "     0     0 125153.327    0  342          - 125153.327      -     -    0s\n",
      "H    0     0                    173913.00000 125153.327  28.0%     -    0s\n",
      "     0     0 125196.847    0  219 173913.000 125196.847  28.0%     -    0s\n",
      "     0     0 125371.110    0  246 173913.000 125371.110  27.9%     -    0s\n",
      "     0     0 125371.110    0  248 173913.000 125371.110  27.9%     -    0s\n",
      "     0     0 126897.432    0  155 173913.000 126897.432  27.0%     -    0s\n",
      "     0     0 126932.665    0  220 173913.000 126932.665  27.0%     -    0s\n",
      "H    0     0                    144257.00000 126932.665  12.0%     -    0s\n",
      "     0     0 126933.271    0  219 144257.000 126933.271  12.0%     -    0s\n",
      "     0     0 128846.255    0  300 144257.000 128846.255  10.7%     -    0s\n",
      "H    0     0                    140879.00000 128846.255  8.54%     -    1s\n",
      "     0     0 129417.964    0  238 140879.000 129417.964  8.14%     -    1s\n",
      "     0     0 129448.776    0  315 140879.000 129448.776  8.11%     -    1s\n",
      "     0     0 130231.400    0  484 140879.000 130231.400  7.56%     -    1s\n",
      "     0     0 130231.400    0  237 140879.000 130231.400  7.56%     -    1s\n",
      "     0     0 130231.400    0  286 140879.000 130231.400  7.56%     -    1s\n",
      "     0     0 130231.400    0  357 140879.000 130231.400  7.56%     -    1s\n",
      "     0     0 130231.400    0  305 140879.000 130231.400  7.56%     -    1s\n",
      "     0     0 130387.883    0  291 140879.000 130387.883  7.45%     -    1s\n",
      "     0     0 130459.361    0  323 140879.000 130459.361  7.40%     -    1s\n",
      "     0     0 131039.885    0  275 140879.000 131039.885  6.98%     -    1s\n",
      "     0     0 131563.000    0  218 140879.000 131563.000  6.61%     -    1s\n",
      "     0     0 131563.000    0  209 140879.000 131563.000  6.61%     -    1s\n",
      "     0     0 131563.000    0  210 140879.000 131563.000  6.61%     -    1s\n",
      "     0     0 131563.000    0  214 140879.000 131563.000  6.61%     -    1s\n",
      "     0     0 131563.000    0  213 140879.000 131563.000  6.61%     -    1s\n",
      "     0     0 131563.000    0  216 140879.000 131563.000  6.61%     -    1s\n",
      "     0     0 131629.261    0  213 140879.000 131629.261  6.57%     -    1s\n",
      "     0     0 131629.261    0  213 140879.000 131629.261  6.57%     -    1s\n",
      "     0     2 131631.920    0  211 140879.000 131631.920  6.56%     -    1s\n",
      "*  240    56              21    139131.00000 135045.000  2.94%  22.4    2s\n",
      "*  291    12              24    138063.00000 136442.029  1.17%  19.9    2s\n",
      "\n",
      "Cutting planes:\n",
      "  Learned: 1\n",
      "  Cover: 1\n",
      "  Implied bound: 124\n",
      "  Clique: 3\n",
      "  MIR: 19\n",
      "  Flow cover: 7\n",
      "  RLT: 20\n",
      "  Relax-and-lift: 36\n",
      "\n",
      "Explored 347 nodes (13309 simplex iterations) in 2.23 seconds\n",
      "Thread count was 8 (of 8 available processors)\n",
      "\n",
      "Solution count 5: 138063 139131 140879 ... 173913\n",
      "\n",
      "Optimal solution found (tolerance 1.00e-04)\n",
      "Best objective 1.380630000000e+05, best bound 1.380630000000e+05, gap 0.0000%\n"
     ]
    }
   ],
   "source": [
    "mod.optimize()"
   ]
  },
  {
   "cell_type": "raw",
   "metadata": {},
   "source": [
    "\\pagebreak"
   ]
  },
  {
   "cell_type": "markdown",
   "metadata": {},
   "source": [
    "## Printing results\n",
    "\n",
    "First i'll extract agents trips with relative data and order those trips in a domino like form."
   ]
  },
  {
   "cell_type": "code",
   "execution_count": 20,
   "metadata": {},
   "outputs": [
    {
     "ename": "MemoryError",
     "evalue": "",
     "output_type": "error",
     "traceback": [
      "\u001b[1;31m---------------------------------------------------------------------------\u001b[0m",
      "\u001b[1;31mMemoryError\u001b[0m                               Traceback (most recent call last)",
      "\u001b[1;32m<ipython-input-20-3c425d9aba10>\u001b[0m in \u001b[0;36m<module>\u001b[1;34m\u001b[0m\n\u001b[0;32m     46\u001b[0m                 \u001b[0magent_trip\u001b[0m\u001b[1;33m.\u001b[0m\u001b[0mappend\u001b[0m\u001b[1;33m(\u001b[0m\u001b[1;33m(\u001b[0m\u001b[0mi\u001b[0m\u001b[1;33m,\u001b[0m\u001b[0mj\u001b[0m\u001b[1;33m)\u001b[0m\u001b[1;33m)\u001b[0m\u001b[1;33m\u001b[0m\u001b[1;33m\u001b[0m\u001b[0m\n\u001b[0;32m     47\u001b[0m     \u001b[1;31m# Sort trip locations and make a domino list\u001b[0m\u001b[1;33m\u001b[0m\u001b[1;33m\u001b[0m\u001b[1;33m\u001b[0m\u001b[0m\n\u001b[1;32m---> 48\u001b[1;33m     \u001b[0mdomino_agent\u001b[0m\u001b[1;33m,\u001b[0m \u001b[0magent_visit\u001b[0m \u001b[1;33m=\u001b[0m \u001b[0mdomino\u001b[0m\u001b[1;33m(\u001b[0m\u001b[0magent_trip\u001b[0m\u001b[1;33m)\u001b[0m\u001b[1;33m\u001b[0m\u001b[1;33m\u001b[0m\u001b[0m\n\u001b[0m\u001b[0;32m     49\u001b[0m \u001b[1;33m\u001b[0m\u001b[0m\n\u001b[0;32m     50\u001b[0m     \u001b[1;31m# update main lists\u001b[0m\u001b[1;33m\u001b[0m\u001b[1;33m\u001b[0m\u001b[1;33m\u001b[0m\u001b[0m\n",
      "\u001b[1;32m<ipython-input-20-3c425d9aba10>\u001b[0m in \u001b[0;36mdomino\u001b[1;34m(trip)\u001b[0m\n\u001b[0;32m     28\u001b[0m             \u001b[1;32mbreak\u001b[0m\u001b[1;33m\u001b[0m\u001b[1;33m\u001b[0m\u001b[0m\n\u001b[0;32m     29\u001b[0m         \u001b[1;32melse\u001b[0m\u001b[1;33m:\u001b[0m\u001b[1;33m\u001b[0m\u001b[1;33m\u001b[0m\u001b[0m\n\u001b[1;32m---> 30\u001b[1;33m             \u001b[0msorted_visit\u001b[0m\u001b[1;33m.\u001b[0m\u001b[0mappend\u001b[0m\u001b[1;33m(\u001b[0m\u001b[0mdest\u001b[0m \u001b[1;32mif\u001b[0m \u001b[0mdest\u001b[0m \u001b[1;33m<\u001b[0m \u001b[0mCLIENTS\u001b[0m \u001b[1;32melse\u001b[0m \u001b[1;36m0\u001b[0m\u001b[1;33m)\u001b[0m\u001b[1;33m\u001b[0m\u001b[1;33m\u001b[0m\u001b[0m\n\u001b[0m\u001b[0;32m     31\u001b[0m     \u001b[1;32mreturn\u001b[0m \u001b[0msorted_trip\u001b[0m\u001b[1;33m,\u001b[0m \u001b[0msorted_visit\u001b[0m\u001b[1;33m\u001b[0m\u001b[1;33m\u001b[0m\u001b[0m\n\u001b[0;32m     32\u001b[0m \u001b[1;33m\u001b[0m\u001b[0m\n",
      "\u001b[1;31mMemoryError\u001b[0m: "
     ]
    }
   ],
   "source": [
    "def domino(trip):\n",
    "    \"\"\" Function to calculate a domino sorted trip from a random one.\n",
    "        :param trip: List of trips between nodes,\n",
    "        :return: Domino list of visitated nodes,\n",
    "                 Ordered list of visitated nodes.\n",
    "    \"\"\"\n",
    "    sorted_trip = list()\n",
    "    sorted_visit = list()\n",
    "    # Set dest as fitticious start position\n",
    "    dest = start_pos\n",
    "    # If trip not empty\n",
    "    while len(trip):\n",
    "        # For each position couple ([start, end]) in trip\n",
    "        for t in trip:\n",
    "            # If start position is dest\n",
    "            if t[0] == dest:\n",
    "                # If positions in couple aren't fitticious start position\n",
    "                # append couple replacing fitticious offices with real one\n",
    "                if t[0] != start_pos and t[1] != start_pos:\n",
    "                    sorted_trip.append((t[0] if t[0] < CLIENTS else 0, \n",
    "                                        t[1] if t[1] < CLIENTS else 0))\n",
    "                # Update destination\n",
    "                dest = t[1]\n",
    "                break\n",
    "        # If fitticious end is reached stop loop oterwhise append latest \n",
    "        # position reached\n",
    "        if dest == start_pos:\n",
    "            break\n",
    "        else:\n",
    "            sorted_visit.append(dest if dest < CLIENTS else 0)\n",
    "    return sorted_trip, sorted_visit\n",
    "\n",
    "# Initialize main lists\n",
    "domino_list = list()\n",
    "agent_visit_list = list()\n",
    "\n",
    "# For each agent\n",
    "for a in agent_list:\n",
    "    agent_trip = list()\n",
    "    # For each position\n",
    "    for i in all_pos:\n",
    "        # For each other position\n",
    "        for j in all_pos:\n",
    "            # If agent do trip between those store trip\n",
    "            if x[i,j,a].X:\n",
    "                agent_trip.append((i,j))\n",
    "    # Sort trip locations and make a domino list \n",
    "    domino_agent, agent_visit = domino(agent_trip)\n",
    "\n",
    "    # update main lists\n",
    "    domino_list.append(domino_agent)\n",
    "    agent_visit_list.append(agent_visit)"
   ]
  },
  {
   "cell_type": "markdown",
   "metadata": {},
   "source": [
    "### Print sorted agents trips"
   ]
  },
  {
   "cell_type": "code",
   "execution_count": null,
   "metadata": {},
   "outputs": [],
   "source": [
    "# For each agent trip\n",
    "for a, avl in enumerate(agent_visit_list):\n",
    "    print(f\"Agent {a+1} trip: {avl}\")"
   ]
  },
  {
   "cell_type": "markdown",
   "metadata": {},
   "source": [
    "### Print trips stats\n",
    "\n",
    "Print all stats regarding agents trips in an ordered way."
   ]
  },
  {
   "cell_type": "code",
   "execution_count": null,
   "metadata": {},
   "outputs": [],
   "source": [
    "# Enlarge printable size\n",
    "pd.set_option('display.max_columns', 10)\n",
    "pd.set_option('display.width', 1000)\n",
    "\n",
    "stats = dict()\n",
    "# For each agent visit list\n",
    "for a, avl in enumerate(agent_visit_list):\n",
    "    agent_trip_desc = list()\n",
    "    # For each visited position\n",
    "    for i, v in enumerate(avl):\n",
    "        prev = avl[i-1] if i else start_pos\n",
    "        # If previous is a fitticious office\n",
    "        if prev == 0 and i-2 > 0:\n",
    "            prev = avl[i-2]+CLIENTS\n",
    "\n",
    "        # If fitticious office \n",
    "        v_mod = prev+CLIENTS if not v and i-1 >= 0 else v\n",
    "        \n",
    "        # Get stats\n",
    "        pos_desc = {\"POSITION\": v if v else 'OFFICE', \n",
    "                    \"COST TO REACH\": distance_matrix[avl[i-1]][v] if i else 0.,\n",
    "                    \"REACHED AT\": s[v_mod,a].X,\n",
    "                    \"SERVICE TIME\": data_dict[v]['SERVICE'],\n",
    "                    \"REAL S. TIME\": c[v_mod, a].X,\n",
    "                    \"LEAVING TIME\": s[v_mod, a].X+c[v_mod, a].X,\n",
    "                    \"LUNCH_BEFORE\": l[prev, v_mod, a].X,\n",
    "                    \"WAIT_BEFORE\": w[v_mod, a].X,\n",
    "                    \"TW_START\": data_dict[v]['READYTIME'],\n",
    "                    \"TW_END\": data_dict[v]['DUEDATE']\n",
    "                   }\n",
    "        agent_trip_desc.append(pos_desc)\n",
    "        \n",
    "    # Store path stats\n",
    "    stats.update({a+1: pd.DataFrame(agent_trip_desc)})\n",
    "    \n",
    "    # Print agent stats\n",
    "    print(f\"\\nAgent {a+1}\")\n",
    "    print(pd.DataFrame(agent_trip_desc))"
   ]
  },
  {
   "cell_type": "code",
   "execution_count": null,
   "metadata": {},
   "outputs": [],
   "source": [
    "# Dump result dict on file\n",
    "with open(f\"./TEST_SETS/{FILE.split('/')[-1].split('.')[0]}_solution_iqp\", \"wb\") as file:\n",
    "    pickle.dump({\"stats\": stats, \"domino\": domino_list, \"positions\": positions, \"time\": mod.Runtime}, file)"
   ]
  }
 ],
 "metadata": {
  "kernelspec": {
   "display_name": "Python 3",
   "language": "python",
   "name": "python3"
  },
  "language_info": {
   "codemirror_mode": {
    "name": "ipython",
    "version": 3
   },
   "file_extension": ".py",
   "mimetype": "text/x-python",
   "name": "python",
   "nbconvert_exporter": "python",
   "pygments_lexer": "ipython3",
   "version": "3.7.4"
  }
 },
 "nbformat": 4,
 "nbformat_minor": 4
}
